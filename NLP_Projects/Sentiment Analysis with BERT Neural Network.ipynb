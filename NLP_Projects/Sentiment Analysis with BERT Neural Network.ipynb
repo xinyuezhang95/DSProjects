{
 "cells": [
  {
   "cell_type": "markdown",
   "id": "f148c814",
   "metadata": {},
   "source": [
    "In Machine Learning, **sentiment analysis** refers to the application of natural language processing, computational linguistics, and text analysis to identify and classify subjective opinions in source documents.\n",
    "\n",
    "# Project Obejctive\n",
    "In this project, I'm going to apply BERT to conduct sentiment analysis on Yelp reviews.\n",
    "\n",
    "# Workflow\n",
    "1. Install and import dependencies\n",
    "2. Instantiate model\n",
    "3. Encode and calculate sentiment\n",
    "4. Collect Yelp reviews\n",
    "5. Load reviews into Dataframe and score"
   ]
  },
  {
   "cell_type": "markdown",
   "id": "daa41b8c",
   "metadata": {},
   "source": [
    "## 1. Install and Import Dependencies"
   ]
  },
  {
   "cell_type": "code",
   "execution_count": 4,
   "id": "380ddc75",
   "metadata": {},
   "outputs": [],
   "source": [
    "!pip install torch torchvision torchaudio --index-url https://download.pytorch.org/whl/cu117"
   ]
  },
  {
   "cell_type": "code",
   "execution_count": 7,
   "id": "8daef303",
   "metadata": {},
   "outputs": [],
   "source": [
    "!pip install transformers beautifulsoup4"
   ]
  },
  {
   "cell_type": "code",
   "execution_count": 1,
   "id": "1de87afe",
   "metadata": {},
   "outputs": [],
   "source": [
    "from transformers import AutoTokenizer, AutoModelForSequenceClassification\n",
    "import torch\n",
    "import requests\n",
    "from bs4 import BeautifulSoup\n",
    "import re\n",
    "import pandas as pd\n",
    "import numpy as np"
   ]
  },
  {
   "cell_type": "markdown",
   "id": "4af67059",
   "metadata": {},
   "source": [
    "## 2. Instantiate Model"
   ]
  },
  {
   "cell_type": "code",
   "execution_count": 2,
   "id": "a29d47d5",
   "metadata": {},
   "outputs": [],
   "source": [
    "# Load model directly\n",
    "\n",
    "tokenizer = AutoTokenizer.from_pretrained(\"nlptown/bert-base-multilingual-uncased-sentiment\") # from huggingface.co\n",
    "\n",
    "model = AutoModelForSequenceClassification.from_pretrained(\"nlptown/bert-base-multilingual-uncased-sentiment\", num_labels = 5)"
   ]
  },
  {
   "cell_type": "markdown",
   "id": "555a2010",
   "metadata": {},
   "source": [
    "## 3. Encode and Calculate Sentiment"
   ]
  },
  {
   "cell_type": "code",
   "execution_count": 3,
   "id": "cbc0cce3",
   "metadata": {},
   "outputs": [],
   "source": [
    "tokens = tokenizer.encode('I love it, absolutely the best', return_tensors = 'pt')"
   ]
  },
  {
   "cell_type": "code",
   "execution_count": 4,
   "id": "055b60b7",
   "metadata": {},
   "outputs": [
    {
     "data": {
      "text/plain": [
       "tensor([[  151, 11157, 10197,   117, 35925, 10563, 10103, 11146]])"
      ]
     },
     "execution_count": 4,
     "metadata": {},
     "output_type": "execute_result"
    }
   ],
   "source": [
    "tokens"
   ]
  },
  {
   "cell_type": "code",
   "execution_count": 5,
   "id": "65d8f44d",
   "metadata": {},
   "outputs": [
    {
     "data": {
      "text/plain": [
       "'i love it, absolutely the best'"
      ]
     },
     "execution_count": 5,
     "metadata": {},
     "output_type": "execute_result"
    }
   ],
   "source": [
    "tokenizer.decode(tokens[0].tolist())"
   ]
  },
  {
   "cell_type": "code",
   "execution_count": 6,
   "id": "690c2b82",
   "metadata": {},
   "outputs": [],
   "source": [
    "# perform sentiment analysis\n",
    "result = model(tokens)"
   ]
  },
  {
   "cell_type": "code",
   "execution_count": 7,
   "id": "6dd80d59",
   "metadata": {},
   "outputs": [
    {
     "data": {
      "text/plain": [
       "(tensor([[-1.9718, -2.4058, -1.2501,  0.6275,  4.3026]],\n",
       "        grad_fn=<AddmmBackward0>),)"
      ]
     },
     "execution_count": 7,
     "metadata": {},
     "output_type": "execute_result"
    }
   ],
   "source": [
    "result"
   ]
  },
  {
   "cell_type": "markdown",
   "id": "d3e177a2",
   "metadata": {},
   "source": [
    "### Understanding results\n",
    "The output from the model is a one-hot encoded list of scores. \n",
    "\n",
    "The position with the highest score represents the sentiment rating. eg, [0.9, 0.2, 0.1, -0.2, -0.5] is a rating of 1\n",
    "\n",
    "Here we can see that the fifth number is the highest, so the rating for this result is 5."
   ]
  },
  {
   "cell_type": "code",
   "execution_count": 8,
   "id": "fddfa5bb",
   "metadata": {},
   "outputs": [
    {
     "data": {
      "text/plain": [
       "5"
      ]
     },
     "execution_count": 8,
     "metadata": {},
     "output_type": "execute_result"
    }
   ],
   "source": [
    "# print out the position with highest score\n",
    "int(torch.argmax(result[0])) + 1"
   ]
  },
  {
   "cell_type": "code",
   "execution_count": 9,
   "id": "54288910",
   "metadata": {},
   "outputs": [],
   "source": [
    "sen = 'Meh, it was okay'"
   ]
  },
  {
   "cell_type": "code",
   "execution_count": 10,
   "id": "45000513",
   "metadata": {},
   "outputs": [
    {
     "name": "stdout",
     "output_type": "stream",
     "text": [
      "3\n"
     ]
    }
   ],
   "source": [
    "tokens_sen = tokenizer.encode(sen, return_tensors = 'pt')\n",
    "result_sen = model(tokens_sen)\n",
    "print(int(torch.argmax(result_sen[0])) + 1)"
   ]
  },
  {
   "cell_type": "markdown",
   "id": "e96a1a5a",
   "metadata": {},
   "source": [
    "## 4. Collect Reviews from Yelp\n",
    "\n",
    "Note:\n",
    "Scraping with BeautifulSoup allows us to scrape just about anything. Pay attention to the elements we are trying to extract if using a different site."
   ]
  },
  {
   "cell_type": "code",
   "execution_count": 13,
   "id": "d1bfba76",
   "metadata": {},
   "outputs": [],
   "source": [
    "r = requests.get('https://www.yelp.com/biz/lee-cafe-fort-mill-2')\n",
    "soup = BeautifulSoup(r.text, 'html.parser')\n",
    "regex = re.compile('.*comment.*')\n",
    "results = soup.find_all('p', {'class': regex})\n",
    "reviews = [result.text for result in results]"
   ]
  },
  {
   "cell_type": "code",
   "execution_count": 14,
   "id": "bc0c1389",
   "metadata": {},
   "outputs": [
    {
     "data": {
      "text/plain": [
       "<Response [200]>"
      ]
     },
     "execution_count": 14,
     "metadata": {},
     "output_type": "execute_result"
    }
   ],
   "source": [
    "r"
   ]
  },
  {
   "cell_type": "code",
   "execution_count": 19,
   "id": "0b692a33",
   "metadata": {},
   "outputs": [
    {
     "data": {
      "text/plain": [
       "<p class=\"comment__09f24__D0cxf css-qgunke\"><span class=\"raw__09f24__T4Ezm\" lang=\"en\">So far, the most authentic Chinese restaurant we've had in the Fort Mill area. We ordered:<br/>Beef chow fun<br/>Mongolian beef<br/>Pork fried rice<br/>Stir fried pea shoots<br/>Eggrolls <br/><br/>Everything came out blazing hot and freshly cooked. Everything was very good. We look forward to trying more of the menu.</span></p>"
      ]
     },
     "execution_count": 19,
     "metadata": {},
     "output_type": "execute_result"
    }
   ],
   "source": [
    "# r.text # get the text out of the page\n",
    "results[0]"
   ]
  },
  {
   "cell_type": "code",
   "execution_count": 20,
   "id": "7b5c392b",
   "metadata": {},
   "outputs": [
    {
     "data": {
      "text/plain": [
       "\"So far, the most authentic Chinese restaurant we've had in the Fort Mill area. We ordered:Beef chow funMongolian beefPork fried riceStir fried pea shootsEggrolls Everything came out blazing hot and freshly cooked. Everything was very good. We look forward to trying more of the menu.\""
      ]
     },
     "execution_count": 20,
     "metadata": {},
     "output_type": "execute_result"
    }
   ],
   "source": [
    "results[0].text"
   ]
  },
  {
   "cell_type": "code",
   "execution_count": 21,
   "id": "6d4900d8",
   "metadata": {},
   "outputs": [
    {
     "data": {
      "text/plain": [
       "\"So far, the most authentic Chinese restaurant we've had in the Fort Mill area. We ordered:Beef chow funMongolian beefPork fried riceStir fried pea shootsEggrolls Everything came out blazing hot and freshly cooked. Everything was very good. We look forward to trying more of the menu.\""
      ]
     },
     "execution_count": 21,
     "metadata": {},
     "output_type": "execute_result"
    }
   ],
   "source": [
    "reviews[0]"
   ]
  },
  {
   "cell_type": "markdown",
   "id": "1aa6c52f",
   "metadata": {},
   "source": [
    "## 5. Load Reviews into DataFrame and Calculate Scores"
   ]
  },
  {
   "cell_type": "code",
   "execution_count": 24,
   "id": "41730916",
   "metadata": {},
   "outputs": [],
   "source": [
    "df = pd.DataFrame(np.array(reviews), columns = ['review'])"
   ]
  },
  {
   "cell_type": "code",
   "execution_count": 25,
   "id": "c80fb0c4",
   "metadata": {},
   "outputs": [
    {
     "data": {
      "text/html": [
       "<div>\n",
       "<style scoped>\n",
       "    .dataframe tbody tr th:only-of-type {\n",
       "        vertical-align: middle;\n",
       "    }\n",
       "\n",
       "    .dataframe tbody tr th {\n",
       "        vertical-align: top;\n",
       "    }\n",
       "\n",
       "    .dataframe thead th {\n",
       "        text-align: right;\n",
       "    }\n",
       "</style>\n",
       "<table border=\"1\" class=\"dataframe\">\n",
       "  <thead>\n",
       "    <tr style=\"text-align: right;\">\n",
       "      <th></th>\n",
       "      <th>review</th>\n",
       "    </tr>\n",
       "  </thead>\n",
       "  <tbody>\n",
       "    <tr>\n",
       "      <th>0</th>\n",
       "      <td>So far, the most authentic Chinese restaurant ...</td>\n",
       "    </tr>\n",
       "    <tr>\n",
       "      <th>1</th>\n",
       "      <td>Tucked away in a plaza in Fort Mill. This plac...</td>\n",
       "    </tr>\n",
       "    <tr>\n",
       "      <th>2</th>\n",
       "      <td>Ordered take out on 6/6. I wanted to try somet...</td>\n",
       "    </tr>\n",
       "    <tr>\n",
       "      <th>3</th>\n",
       "      <td>Get the spicy fish and veggies, also don't be ...</td>\n",
       "    </tr>\n",
       "    <tr>\n",
       "      <th>4</th>\n",
       "      <td>One of the best Chinese restaurants in the are...</td>\n",
       "    </tr>\n",
       "  </tbody>\n",
       "</table>\n",
       "</div>"
      ],
      "text/plain": [
       "                                              review\n",
       "0  So far, the most authentic Chinese restaurant ...\n",
       "1  Tucked away in a plaza in Fort Mill. This plac...\n",
       "2  Ordered take out on 6/6. I wanted to try somet...\n",
       "3  Get the spicy fish and veggies, also don't be ...\n",
       "4  One of the best Chinese restaurants in the are..."
      ]
     },
     "execution_count": 25,
     "metadata": {},
     "output_type": "execute_result"
    }
   ],
   "source": [
    "df.head()"
   ]
  },
  {
   "cell_type": "code",
   "execution_count": 26,
   "id": "7ef9fbff",
   "metadata": {},
   "outputs": [
    {
     "data": {
      "text/plain": [
       "(11, 1)"
      ]
     },
     "execution_count": 26,
     "metadata": {},
     "output_type": "execute_result"
    }
   ],
   "source": [
    "df.shape"
   ]
  },
  {
   "cell_type": "code",
   "execution_count": 27,
   "id": "5fdb637f",
   "metadata": {},
   "outputs": [
    {
     "data": {
      "text/plain": [
       "\"So far, the most authentic Chinese restaurant we've had in the Fort Mill area. We ordered:Beef chow funMongolian beefPork fried riceStir fried pea shootsEggrolls Everything came out blazing hot and freshly cooked. Everything was very good. We look forward to trying more of the menu.\""
      ]
     },
     "execution_count": 27,
     "metadata": {},
     "output_type": "execute_result"
    }
   ],
   "source": [
    "df['review'].iloc[0]"
   ]
  },
  {
   "cell_type": "code",
   "execution_count": 30,
   "id": "3572793e",
   "metadata": {},
   "outputs": [],
   "source": [
    "# create a function to streamline the sentiment analysis on reviews\n",
    "def sentiment_score(review):\n",
    "    tokens = tokenizer.encode(review, return_tensors = 'pt')\n",
    "    result = model(tokens)\n",
    "    return int(torch.argmax(result[0])) + 1"
   ]
  },
  {
   "cell_type": "code",
   "execution_count": 31,
   "id": "9cc31793",
   "metadata": {},
   "outputs": [
    {
     "data": {
      "text/plain": [
       "5"
      ]
     },
     "execution_count": 31,
     "metadata": {},
     "output_type": "execute_result"
    }
   ],
   "source": [
    "sentiment_score(df['review'].iloc[0])"
   ]
  },
  {
   "cell_type": "code",
   "execution_count": 32,
   "id": "0b37b823",
   "metadata": {},
   "outputs": [
    {
     "data": {
      "text/plain": [
       "3"
      ]
     },
     "execution_count": 32,
     "metadata": {},
     "output_type": "execute_result"
    }
   ],
   "source": [
    "sentiment_score(df['review'].iloc[1])"
   ]
  },
  {
   "cell_type": "code",
   "execution_count": 33,
   "id": "74828aec",
   "metadata": {},
   "outputs": [],
   "source": [
    "df['sentiment'] = df['review'].apply(lambda x: sentiment_score(x[:512])) # limit to 512 tokens"
   ]
  },
  {
   "cell_type": "code",
   "execution_count": 34,
   "id": "2d70a299",
   "metadata": {},
   "outputs": [
    {
     "data": {
      "text/html": [
       "<div>\n",
       "<style scoped>\n",
       "    .dataframe tbody tr th:only-of-type {\n",
       "        vertical-align: middle;\n",
       "    }\n",
       "\n",
       "    .dataframe tbody tr th {\n",
       "        vertical-align: top;\n",
       "    }\n",
       "\n",
       "    .dataframe thead th {\n",
       "        text-align: right;\n",
       "    }\n",
       "</style>\n",
       "<table border=\"1\" class=\"dataframe\">\n",
       "  <thead>\n",
       "    <tr style=\"text-align: right;\">\n",
       "      <th></th>\n",
       "      <th>review</th>\n",
       "      <th>sentiment</th>\n",
       "    </tr>\n",
       "  </thead>\n",
       "  <tbody>\n",
       "    <tr>\n",
       "      <th>0</th>\n",
       "      <td>So far, the most authentic Chinese restaurant ...</td>\n",
       "      <td>5</td>\n",
       "    </tr>\n",
       "    <tr>\n",
       "      <th>1</th>\n",
       "      <td>Tucked away in a plaza in Fort Mill. This plac...</td>\n",
       "      <td>4</td>\n",
       "    </tr>\n",
       "    <tr>\n",
       "      <th>2</th>\n",
       "      <td>Ordered take out on 6/6. I wanted to try somet...</td>\n",
       "      <td>3</td>\n",
       "    </tr>\n",
       "    <tr>\n",
       "      <th>3</th>\n",
       "      <td>Get the spicy fish and veggies, also don't be ...</td>\n",
       "      <td>4</td>\n",
       "    </tr>\n",
       "    <tr>\n",
       "      <th>4</th>\n",
       "      <td>One of the best Chinese restaurants in the are...</td>\n",
       "      <td>5</td>\n",
       "    </tr>\n",
       "  </tbody>\n",
       "</table>\n",
       "</div>"
      ],
      "text/plain": [
       "                                              review  sentiment\n",
       "0  So far, the most authentic Chinese restaurant ...          5\n",
       "1  Tucked away in a plaza in Fort Mill. This plac...          4\n",
       "2  Ordered take out on 6/6. I wanted to try somet...          3\n",
       "3  Get the spicy fish and veggies, also don't be ...          4\n",
       "4  One of the best Chinese restaurants in the are...          5"
      ]
     },
     "execution_count": 34,
     "metadata": {},
     "output_type": "execute_result"
    }
   ],
   "source": [
    "df.head()"
   ]
  },
  {
   "cell_type": "code",
   "execution_count": 35,
   "id": "06c81f11",
   "metadata": {},
   "outputs": [
    {
     "data": {
      "text/html": [
       "<div>\n",
       "<style scoped>\n",
       "    .dataframe tbody tr th:only-of-type {\n",
       "        vertical-align: middle;\n",
       "    }\n",
       "\n",
       "    .dataframe tbody tr th {\n",
       "        vertical-align: top;\n",
       "    }\n",
       "\n",
       "    .dataframe thead th {\n",
       "        text-align: right;\n",
       "    }\n",
       "</style>\n",
       "<table border=\"1\" class=\"dataframe\">\n",
       "  <thead>\n",
       "    <tr style=\"text-align: right;\">\n",
       "      <th></th>\n",
       "      <th>review</th>\n",
       "      <th>sentiment</th>\n",
       "    </tr>\n",
       "  </thead>\n",
       "  <tbody>\n",
       "    <tr>\n",
       "      <th>0</th>\n",
       "      <td>So far, the most authentic Chinese restaurant ...</td>\n",
       "      <td>5</td>\n",
       "    </tr>\n",
       "    <tr>\n",
       "      <th>1</th>\n",
       "      <td>Tucked away in a plaza in Fort Mill. This plac...</td>\n",
       "      <td>4</td>\n",
       "    </tr>\n",
       "    <tr>\n",
       "      <th>2</th>\n",
       "      <td>Ordered take out on 6/6. I wanted to try somet...</td>\n",
       "      <td>3</td>\n",
       "    </tr>\n",
       "    <tr>\n",
       "      <th>3</th>\n",
       "      <td>Get the spicy fish and veggies, also don't be ...</td>\n",
       "      <td>4</td>\n",
       "    </tr>\n",
       "    <tr>\n",
       "      <th>4</th>\n",
       "      <td>One of the best Chinese restaurants in the are...</td>\n",
       "      <td>5</td>\n",
       "    </tr>\n",
       "    <tr>\n",
       "      <th>5</th>\n",
       "      <td>Got a late lunch here. The dishes were a hit o...</td>\n",
       "      <td>3</td>\n",
       "    </tr>\n",
       "    <tr>\n",
       "      <th>6</th>\n",
       "      <td>This is our go-to for Chinese in Ft. Mill. My ...</td>\n",
       "      <td>5</td>\n",
       "    </tr>\n",
       "    <tr>\n",
       "      <th>7</th>\n",
       "      <td>We all came here on a Sunday evening. This pla...</td>\n",
       "      <td>5</td>\n",
       "    </tr>\n",
       "    <tr>\n",
       "      <th>8</th>\n",
       "      <td>Wow! What a hidden gem in a strip mall next to...</td>\n",
       "      <td>5</td>\n",
       "    </tr>\n",
       "    <tr>\n",
       "      <th>9</th>\n",
       "      <td>If you are looking for good Americanized Chine...</td>\n",
       "      <td>2</td>\n",
       "    </tr>\n",
       "    <tr>\n",
       "      <th>10</th>\n",
       "      <td>Lee Cafe is hands down my favorite Chinese res...</td>\n",
       "      <td>5</td>\n",
       "    </tr>\n",
       "  </tbody>\n",
       "</table>\n",
       "</div>"
      ],
      "text/plain": [
       "                                               review  sentiment\n",
       "0   So far, the most authentic Chinese restaurant ...          5\n",
       "1   Tucked away in a plaza in Fort Mill. This plac...          4\n",
       "2   Ordered take out on 6/6. I wanted to try somet...          3\n",
       "3   Get the spicy fish and veggies, also don't be ...          4\n",
       "4   One of the best Chinese restaurants in the are...          5\n",
       "5   Got a late lunch here. The dishes were a hit o...          3\n",
       "6   This is our go-to for Chinese in Ft. Mill. My ...          5\n",
       "7   We all came here on a Sunday evening. This pla...          5\n",
       "8   Wow! What a hidden gem in a strip mall next to...          5\n",
       "9   If you are looking for good Americanized Chine...          2\n",
       "10  Lee Cafe is hands down my favorite Chinese res...          5"
      ]
     },
     "execution_count": 35,
     "metadata": {},
     "output_type": "execute_result"
    }
   ],
   "source": [
    "df"
   ]
  },
  {
   "cell_type": "code",
   "execution_count": 36,
   "id": "ac662d08",
   "metadata": {},
   "outputs": [
    {
     "data": {
      "text/plain": [
       "'If you are looking for good Americanized Chinese restaurant, this will not be the place for you. \\xa0Go to Baoding at Southpark or other Chinese restaurant for your beef and broccoli or favorite fried rice.This is the place you go if you are looking for some authentic Cantonese Chinese dishes that are not served elsewhere such as stir fry snow pea tips or braised pork belly.Service here reminded me so much of typical Chinatown restaurants LOL! , again very authentic so expect curt and indifference. \\xa0I wish this place was close to my house so I can get takeout.'"
      ]
     },
     "execution_count": 36,
     "metadata": {},
     "output_type": "execute_result"
    }
   ],
   "source": [
    "df['review'].iloc[9]"
   ]
  },
  {
   "cell_type": "code",
   "execution_count": null,
   "id": "f0a4678f",
   "metadata": {},
   "outputs": [],
   "source": []
  }
 ],
 "metadata": {
  "kernelspec": {
   "display_name": "Python 3 (ipykernel)",
   "language": "python",
   "name": "python3"
  },
  "language_info": {
   "codemirror_mode": {
    "name": "ipython",
    "version": 3
   },
   "file_extension": ".py",
   "mimetype": "text/x-python",
   "name": "python",
   "nbconvert_exporter": "python",
   "pygments_lexer": "ipython3",
   "version": "3.11.4"
  }
 },
 "nbformat": 4,
 "nbformat_minor": 5
}
