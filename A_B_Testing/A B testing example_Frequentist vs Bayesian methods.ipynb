{
 "cells": [
  {
   "cell_type": "code",
   "execution_count": 1,
   "id": "27fce95f",
   "metadata": {},
   "outputs": [],
   "source": [
    "import pandas as pd\n",
    "import numpy as np\n",
    "import datetime\n",
    "from scipy.stats import chi2_contingency, beta\n",
    "from IPython.display import Image"
   ]
  },
  {
   "cell_type": "markdown",
   "id": "9d939aec",
   "metadata": {},
   "source": [
    "Before we dive into the project, I would like to first recommend a YouTube video by Cassie Kozyrkov (head of Decision Intelligence at Google) which explains Frequentist and Bayesian statistical perspectives clearly. The video link is: https://www.youtube.com/watch?v=GEFxFVESQXc\n",
    "\n",
    "To sum it up:\n",
    "- **Bayesian**: they are interested in their own opinion, from their own perspective of view. A Bayesian can never be wrong, because it's always their opinion. They take a start opinion, they see some evidence, they get a new opinion -- that's still their opinion. They have a sensible way of updating opinions with data. \n",
    "- **Frequentist**: they care very much about the true answer, which is fixed in the universe. And their analysis is oriented on that truth. They have a notion of 'getting it right'. They have the idea of \"the method's quality\", and they would like to do the experiments FREQUENTLY (hence the name) to get it right.\n",
    "- **Statistics** is the discipline of changing one's mind under uncertainty. Those two above perspectives shows you two ways of changing your mind.\n",
    "    - if you want to take ur personal opinion, add data to it, and see how your opinion should reasonably change -- go Bayesian\n",
    "    - if you have an action by default, and you want to see if evidences are strong enough to convince you to continue taking or not to take the action (aka you care about the method's quality to make you stupidly leave the action, or continue the action even though you shouldn't) -- go Frequentist\n",
    "    \n",
    "Now let's work on the project!\n",
    "\n",
    "### 1. Experiment Definition\n",
    "\n",
    "We developed a new webpage and want to test its effects on purchase conversion. As such we split our users evenly into 2 groups:\n",
    "1. **Control**: They get the old webpage\n",
    "2. **Treatment**: They get the new webpage\n",
    "\n",
    "*Assumption:*\n",
    "\n",
    "SUVTA (Stable Unit Treatment Value Assumption): No interaction effects between units (users here) in control/ treatment. It's an assumption when conducting these experiments. \n",
    "\n",
    "Metric we want to track:\n",
    "$$\n",
    "\\text{purchase conversion} = \\frac{\\text{# of Converted Users}}{\\text{# of Exposed Users}}\n",
    "$$\n",
    "\n",
    "We have 3 weeks of logged exposure/conversion data. Let's define these terms:\n",
    "1. **Exposure**: A user is bucketed as control or treatment and sees their corresponding page for the first time in the experiment duration\n",
    "2. **Conversion**: An exposed user makes a purchase within 7 days of being first exposed\n",
    "\n",
    "Questions you should ask when setting up a test:\n",
    "- How do you think the experiment will fair?\n",
    "- Do we have actionable next steps laid out?\n",
    "\n",
    "### 2. Data Collection\n",
    "\n",
    "Let's use some A/B testing data: https://www.kaggle.com/saraabdelaal/abtestdata"
   ]
  },
  {
   "cell_type": "code",
   "execution_count": 2,
   "id": "36220a09",
   "metadata": {},
   "outputs": [],
   "source": [
    "df = pd.read_csv('datasets/ab_data.csv')"
   ]
  },
  {
   "cell_type": "code",
   "execution_count": 3,
   "id": "c15b3f9c",
   "metadata": {},
   "outputs": [
    {
     "data": {
      "text/html": [
       "<div>\n",
       "<style scoped>\n",
       "    .dataframe tbody tr th:only-of-type {\n",
       "        vertical-align: middle;\n",
       "    }\n",
       "\n",
       "    .dataframe tbody tr th {\n",
       "        vertical-align: top;\n",
       "    }\n",
       "\n",
       "    .dataframe thead th {\n",
       "        text-align: right;\n",
       "    }\n",
       "</style>\n",
       "<table border=\"1\" class=\"dataframe\">\n",
       "  <thead>\n",
       "    <tr style=\"text-align: right;\">\n",
       "      <th></th>\n",
       "      <th>user_id</th>\n",
       "      <th>timestamp</th>\n",
       "      <th>group</th>\n",
       "      <th>landing_page</th>\n",
       "      <th>converted</th>\n",
       "    </tr>\n",
       "  </thead>\n",
       "  <tbody>\n",
       "    <tr>\n",
       "      <th>0</th>\n",
       "      <td>851104</td>\n",
       "      <td>2017-01-21 22:11:48.556739</td>\n",
       "      <td>control</td>\n",
       "      <td>old_page</td>\n",
       "      <td>0</td>\n",
       "    </tr>\n",
       "    <tr>\n",
       "      <th>1</th>\n",
       "      <td>804228</td>\n",
       "      <td>2017-01-12 08:01:45.159739</td>\n",
       "      <td>control</td>\n",
       "      <td>old_page</td>\n",
       "      <td>0</td>\n",
       "    </tr>\n",
       "    <tr>\n",
       "      <th>2</th>\n",
       "      <td>661590</td>\n",
       "      <td>2017-01-11 16:55:06.154213</td>\n",
       "      <td>treatment</td>\n",
       "      <td>new_page</td>\n",
       "      <td>0</td>\n",
       "    </tr>\n",
       "    <tr>\n",
       "      <th>3</th>\n",
       "      <td>853541</td>\n",
       "      <td>2017-01-08 18:28:03.143765</td>\n",
       "      <td>treatment</td>\n",
       "      <td>new_page</td>\n",
       "      <td>0</td>\n",
       "    </tr>\n",
       "    <tr>\n",
       "      <th>4</th>\n",
       "      <td>864975</td>\n",
       "      <td>2017-01-21 01:52:26.210827</td>\n",
       "      <td>control</td>\n",
       "      <td>old_page</td>\n",
       "      <td>1</td>\n",
       "    </tr>\n",
       "  </tbody>\n",
       "</table>\n",
       "</div>"
      ],
      "text/plain": [
       "   user_id                   timestamp      group landing_page  converted\n",
       "0   851104  2017-01-21 22:11:48.556739    control     old_page          0\n",
       "1   804228  2017-01-12 08:01:45.159739    control     old_page          0\n",
       "2   661590  2017-01-11 16:55:06.154213  treatment     new_page          0\n",
       "3   853541  2017-01-08 18:28:03.143765  treatment     new_page          0\n",
       "4   864975  2017-01-21 01:52:26.210827    control     old_page          1"
      ]
     },
     "execution_count": 3,
     "metadata": {},
     "output_type": "execute_result"
    }
   ],
   "source": [
    "df.head()"
   ]
  },
  {
   "cell_type": "code",
   "execution_count": 4,
   "id": "6ae343b1",
   "metadata": {},
   "outputs": [
    {
     "data": {
      "text/plain": [
       "(294478, 5)"
      ]
     },
     "execution_count": 4,
     "metadata": {},
     "output_type": "execute_result"
    }
   ],
   "source": [
    "df.shape"
   ]
  },
  {
   "cell_type": "markdown",
   "id": "da5f1b51",
   "metadata": {},
   "source": [
    "Each row is logged when user is exposed to a webpage.\n",
    "- **timestamp**: time the user is first exposed\n",
    "- **group**: bucket\n",
    "- **landing_page**: Which page are they seeing\n",
    "- **converted**: Initialized to 0. Changes to 1 if the user makes a purchase within 7 days of first exposure"
   ]
  },
  {
   "cell_type": "code",
   "execution_count": 5,
   "id": "8a9f3e4b",
   "metadata": {},
   "outputs": [
    {
     "name": "stdout",
     "output_type": "stream",
     "text": [
      "Number of unique users in experiment: 290584\n",
      "Data collected for 21 days\n",
      "Landing pages to compare: ['old_page', 'new_page']\n",
      "Percentage of users in control: 50%\n"
     ]
    }
   ],
   "source": [
    "start_time = datetime.datetime.strptime(df['timestamp'].min(), '%Y-%m-%d %H:%M:%S.%f')\n",
    "end_time = datetime.datetime.strptime(df['timestamp'].max(), '%Y-%m-%d %H:%M:%S.%f')\n",
    "data_duration = (end_time - start_time).days\n",
    "\n",
    "print(f\"Number of unique users in experiment: {df['user_id'].nunique()}\")\n",
    "print(f\"Data collected for {data_duration} days\")\n",
    "print(f\"Landing pages to compare: {df['landing_page'].unique().tolist()}\")\n",
    "print(f\"Percentage of users in control: {round(df[df['group']=='control'].shape[0] * 100 / df.shape[0])}%\")"
   ]
  },
  {
   "cell_type": "code",
   "execution_count": 44,
   "id": "47dbdbd9",
   "metadata": {},
   "outputs": [
    {
     "data": {
      "text/plain": [
       "0    259241\n",
       "1     35237\n",
       "Name: converted, dtype: int64"
      ]
     },
     "execution_count": 44,
     "metadata": {},
     "output_type": "execute_result"
    }
   ],
   "source": [
    "df.converted.value_counts()"
   ]
  },
  {
   "cell_type": "code",
   "execution_count": 45,
   "id": "5d783682",
   "metadata": {},
   "outputs": [
    {
     "data": {
      "text/plain": [
       "treatment    147276\n",
       "control      147202\n",
       "Name: group, dtype: int64"
      ]
     },
     "execution_count": 45,
     "metadata": {},
     "output_type": "execute_result"
    }
   ],
   "source": [
    "df.group.value_counts()"
   ]
  },
  {
   "cell_type": "markdown",
   "id": "6ac3df4f",
   "metadata": {},
   "source": [
    "### 3. Data Processing\n",
    "\n",
    "Check if there are missing values, or some repeated exposures for some users"
   ]
  },
  {
   "cell_type": "code",
   "execution_count": 6,
   "id": "f19355b8",
   "metadata": {},
   "outputs": [
    {
     "data": {
      "text/plain": [
       "user_id         0\n",
       "timestamp       0\n",
       "group           0\n",
       "landing_page    0\n",
       "converted       0\n",
       "dtype: int64"
      ]
     },
     "execution_count": 6,
     "metadata": {},
     "output_type": "execute_result"
    }
   ],
   "source": [
    "# missing values\n",
    "df.isnull().sum()"
   ]
  },
  {
   "cell_type": "code",
   "execution_count": 22,
   "id": "cef447e5",
   "metadata": {},
   "outputs": [],
   "source": [
    "# repeated exposures for users\n",
    "user_info = df.groupby('user_id')['landing_page'].nunique()"
   ]
  },
  {
   "cell_type": "code",
   "execution_count": 23,
   "id": "a7e70988",
   "metadata": {},
   "outputs": [
    {
     "data": {
      "text/plain": [
       "user_id\n",
       "630000    1\n",
       "630001    1\n",
       "630002    1\n",
       "630003    1\n",
       "630004    1\n",
       "Name: landing_page, dtype: int64"
      ]
     },
     "execution_count": 23,
     "metadata": {},
     "output_type": "execute_result"
    }
   ],
   "source": [
    "user_info.head()"
   ]
  },
  {
   "cell_type": "code",
   "execution_count": 25,
   "id": "26a67f29",
   "metadata": {},
   "outputs": [
    {
     "data": {
      "text/plain": [
       "pandas.core.series.Series"
      ]
     },
     "execution_count": 25,
     "metadata": {},
     "output_type": "execute_result"
    }
   ],
   "source": [
    "type(user_info)"
   ]
  },
  {
   "cell_type": "code",
   "execution_count": 31,
   "id": "786b6ee0",
   "metadata": {},
   "outputs": [],
   "source": [
    "repeated_users = user_info[user_info != 1].index.tolist()"
   ]
  },
  {
   "cell_type": "code",
   "execution_count": 32,
   "id": "c14da270",
   "metadata": {},
   "outputs": [
    {
     "data": {
      "text/plain": [
       "1998"
      ]
     },
     "execution_count": 32,
     "metadata": {},
     "output_type": "execute_result"
    }
   ],
   "source": [
    "len(repeated_users)"
   ]
  },
  {
   "cell_type": "code",
   "execution_count": 33,
   "id": "b3b0bcf9",
   "metadata": {},
   "outputs": [
    {
     "data": {
      "text/plain": [
       "[630052, 630126, 630137]"
      ]
     },
     "execution_count": 33,
     "metadata": {},
     "output_type": "execute_result"
    }
   ],
   "source": [
    "repeated_users[:3]"
   ]
  },
  {
   "cell_type": "code",
   "execution_count": 41,
   "id": "6b08dd8a",
   "metadata": {},
   "outputs": [],
   "source": [
    "sample = df[df['user_id'].isin(repeated_users)]"
   ]
  },
  {
   "cell_type": "code",
   "execution_count": 37,
   "id": "76a90303",
   "metadata": {},
   "outputs": [
    {
     "data": {
      "text/html": [
       "<div>\n",
       "<style scoped>\n",
       "    .dataframe tbody tr th:only-of-type {\n",
       "        vertical-align: middle;\n",
       "    }\n",
       "\n",
       "    .dataframe tbody tr th {\n",
       "        vertical-align: top;\n",
       "    }\n",
       "\n",
       "    .dataframe thead th {\n",
       "        text-align: right;\n",
       "    }\n",
       "</style>\n",
       "<table border=\"1\" class=\"dataframe\">\n",
       "  <thead>\n",
       "    <tr style=\"text-align: right;\">\n",
       "      <th></th>\n",
       "      <th>user_id</th>\n",
       "      <th>timestamp</th>\n",
       "      <th>group</th>\n",
       "      <th>landing_page</th>\n",
       "      <th>converted</th>\n",
       "    </tr>\n",
       "  </thead>\n",
       "  <tbody>\n",
       "    <tr>\n",
       "      <th>192</th>\n",
       "      <td>656468</td>\n",
       "      <td>2017-01-18 07:13:29.805052</td>\n",
       "      <td>treatment</td>\n",
       "      <td>new_page</td>\n",
       "      <td>1</td>\n",
       "    </tr>\n",
       "    <tr>\n",
       "      <th>226</th>\n",
       "      <td>773693</td>\n",
       "      <td>2017-01-23 18:05:45.167335</td>\n",
       "      <td>control</td>\n",
       "      <td>old_page</td>\n",
       "      <td>1</td>\n",
       "    </tr>\n",
       "    <tr>\n",
       "      <th>246</th>\n",
       "      <td>704650</td>\n",
       "      <td>2017-01-04 19:10:52.655062</td>\n",
       "      <td>treatment</td>\n",
       "      <td>new_page</td>\n",
       "      <td>0</td>\n",
       "    </tr>\n",
       "    <tr>\n",
       "      <th>276</th>\n",
       "      <td>784557</td>\n",
       "      <td>2017-01-04 10:39:41.450143</td>\n",
       "      <td>treatment</td>\n",
       "      <td>new_page</td>\n",
       "      <td>0</td>\n",
       "    </tr>\n",
       "    <tr>\n",
       "      <th>303</th>\n",
       "      <td>753749</td>\n",
       "      <td>2017-01-06 01:30:10.493842</td>\n",
       "      <td>control</td>\n",
       "      <td>old_page</td>\n",
       "      <td>0</td>\n",
       "    </tr>\n",
       "  </tbody>\n",
       "</table>\n",
       "</div>"
      ],
      "text/plain": [
       "     user_id                   timestamp      group landing_page  converted\n",
       "192   656468  2017-01-18 07:13:29.805052  treatment     new_page          1\n",
       "226   773693  2017-01-23 18:05:45.167335    control     old_page          1\n",
       "246   704650  2017-01-04 19:10:52.655062  treatment     new_page          0\n",
       "276   784557  2017-01-04 10:39:41.450143  treatment     new_page          0\n",
       "303   753749  2017-01-06 01:30:10.493842    control     old_page          0"
      ]
     },
     "execution_count": 37,
     "metadata": {},
     "output_type": "execute_result"
    }
   ],
   "source": [
    "sample.head()"
   ]
  },
  {
   "cell_type": "code",
   "execution_count": 39,
   "id": "2f65b87b",
   "metadata": {},
   "outputs": [
    {
     "data": {
      "text/html": [
       "<div>\n",
       "<style scoped>\n",
       "    .dataframe tbody tr th:only-of-type {\n",
       "        vertical-align: middle;\n",
       "    }\n",
       "\n",
       "    .dataframe tbody tr th {\n",
       "        vertical-align: top;\n",
       "    }\n",
       "\n",
       "    .dataframe thead th {\n",
       "        text-align: right;\n",
       "    }\n",
       "</style>\n",
       "<table border=\"1\" class=\"dataframe\">\n",
       "  <thead>\n",
       "    <tr style=\"text-align: right;\">\n",
       "      <th></th>\n",
       "      <th>user_id</th>\n",
       "      <th>timestamp</th>\n",
       "      <th>group</th>\n",
       "      <th>landing_page</th>\n",
       "      <th>converted</th>\n",
       "    </tr>\n",
       "  </thead>\n",
       "  <tbody>\n",
       "    <tr>\n",
       "      <th>192</th>\n",
       "      <td>656468</td>\n",
       "      <td>2017-01-18 07:13:29.805052</td>\n",
       "      <td>treatment</td>\n",
       "      <td>new_page</td>\n",
       "      <td>1</td>\n",
       "    </tr>\n",
       "    <tr>\n",
       "      <th>110937</th>\n",
       "      <td>656468</td>\n",
       "      <td>2017-01-02 16:31:05.777407</td>\n",
       "      <td>treatment</td>\n",
       "      <td>old_page</td>\n",
       "      <td>0</td>\n",
       "    </tr>\n",
       "  </tbody>\n",
       "</table>\n",
       "</div>"
      ],
      "text/plain": [
       "        user_id                   timestamp      group landing_page  converted\n",
       "192      656468  2017-01-18 07:13:29.805052  treatment     new_page          1\n",
       "110937   656468  2017-01-02 16:31:05.777407  treatment     old_page          0"
      ]
     },
     "execution_count": 39,
     "metadata": {},
     "output_type": "execute_result"
    }
   ],
   "source": [
    "sample[sample.user_id == 656468]"
   ]
  },
  {
   "cell_type": "markdown",
   "id": "865cfe71",
   "metadata": {},
   "source": [
    "Given that there are repeated exposures to some users, we need to deal with that.\n",
    "\n",
    "Here we choose to get First timestamp for each username. In this dataset, it is the timestamp of first conversion, but in reality, make sure to do one of the following:\n",
    "1. Get timestamp of first exposure\n",
    "2. Remove users with multiple buckets"
   ]
  },
  {
   "cell_type": "code",
   "execution_count": 42,
   "id": "ba95f136",
   "metadata": {},
   "outputs": [
    {
     "data": {
      "text/html": [
       "<div>\n",
       "<style scoped>\n",
       "    .dataframe tbody tr th:only-of-type {\n",
       "        vertical-align: middle;\n",
       "    }\n",
       "\n",
       "    .dataframe tbody tr th {\n",
       "        vertical-align: top;\n",
       "    }\n",
       "\n",
       "    .dataframe thead th {\n",
       "        text-align: right;\n",
       "    }\n",
       "</style>\n",
       "<table border=\"1\" class=\"dataframe\">\n",
       "  <thead>\n",
       "    <tr style=\"text-align: right;\">\n",
       "      <th></th>\n",
       "      <th>user_id</th>\n",
       "      <th>timestamp</th>\n",
       "      <th>group</th>\n",
       "      <th>landing_page</th>\n",
       "      <th>converted</th>\n",
       "    </tr>\n",
       "  </thead>\n",
       "  <tbody>\n",
       "    <tr>\n",
       "      <th>0</th>\n",
       "      <td>784557</td>\n",
       "      <td>2017-01-04 10:39:41.450143</td>\n",
       "      <td>treatment</td>\n",
       "      <td>new_page</td>\n",
       "      <td>0</td>\n",
       "    </tr>\n",
       "    <tr>\n",
       "      <th>1</th>\n",
       "      <td>753749</td>\n",
       "      <td>2017-01-06 01:30:10.493842</td>\n",
       "      <td>control</td>\n",
       "      <td>old_page</td>\n",
       "      <td>0</td>\n",
       "    </tr>\n",
       "    <tr>\n",
       "      <th>2</th>\n",
       "      <td>686623</td>\n",
       "      <td>2017-01-09 14:26:40.734775</td>\n",
       "      <td>treatment</td>\n",
       "      <td>old_page</td>\n",
       "      <td>0</td>\n",
       "    </tr>\n",
       "    <tr>\n",
       "      <th>3</th>\n",
       "      <td>793580</td>\n",
       "      <td>2017-01-08 03:25:33.723712</td>\n",
       "      <td>control</td>\n",
       "      <td>new_page</td>\n",
       "      <td>1</td>\n",
       "    </tr>\n",
       "    <tr>\n",
       "      <th>4</th>\n",
       "      <td>727266</td>\n",
       "      <td>2017-01-08 03:23:50.487865</td>\n",
       "      <td>treatment</td>\n",
       "      <td>new_page</td>\n",
       "      <td>0</td>\n",
       "    </tr>\n",
       "  </tbody>\n",
       "</table>\n",
       "</div>"
      ],
      "text/plain": [
       "   user_id                   timestamp      group landing_page  converted\n",
       "0   784557  2017-01-04 10:39:41.450143  treatment     new_page          0\n",
       "1   753749  2017-01-06 01:30:10.493842    control     old_page          0\n",
       "2   686623  2017-01-09 14:26:40.734775  treatment     old_page          0\n",
       "3   793580  2017-01-08 03:25:33.723712    control     new_page          1\n",
       "4   727266  2017-01-08 03:23:50.487865  treatment     new_page          0"
      ]
     },
     "execution_count": 42,
     "metadata": {},
     "output_type": "execute_result"
    }
   ],
   "source": [
    "# Method I. Get timestamp of first exposure\n",
    "first_conversion = sample.groupby('user_id')['timestamp'].min().to_frame().reset_index()\n",
    "sample = sample.merge(first_conversion, on=['user_id', 'timestamp'])\n",
    "sample.head()"
   ]
  },
  {
   "cell_type": "code",
   "execution_count": 43,
   "id": "7e1413da",
   "metadata": {},
   "outputs": [
    {
     "data": {
      "text/plain": [
       "(1998, 5)"
      ]
     },
     "execution_count": 43,
     "metadata": {},
     "output_type": "execute_result"
    }
   ],
   "source": [
    "sample.shape"
   ]
  },
  {
   "cell_type": "code",
   "execution_count": 46,
   "id": "8e96004b",
   "metadata": {},
   "outputs": [],
   "source": [
    "# Method II: Remove users with multiple buckets \n",
    "# (since the size of repeated users are small compared to the total sample size)\n",
    "counter = df['user_id'].value_counts()\n",
    "valid_users = pd.DataFrame(counter[counter == 1].index, columns=['user_id'])\n",
    "user_data = df.merge(valid_users, on=['user_id'])"
   ]
  },
  {
   "cell_type": "code",
   "execution_count": 47,
   "id": "6aeaf683",
   "metadata": {},
   "outputs": [
    {
     "data": {
      "text/html": [
       "<div>\n",
       "<style scoped>\n",
       "    .dataframe tbody tr th:only-of-type {\n",
       "        vertical-align: middle;\n",
       "    }\n",
       "\n",
       "    .dataframe tbody tr th {\n",
       "        vertical-align: top;\n",
       "    }\n",
       "\n",
       "    .dataframe thead th {\n",
       "        text-align: right;\n",
       "    }\n",
       "</style>\n",
       "<table border=\"1\" class=\"dataframe\">\n",
       "  <thead>\n",
       "    <tr style=\"text-align: right;\">\n",
       "      <th></th>\n",
       "      <th>user_id</th>\n",
       "      <th>timestamp</th>\n",
       "      <th>group</th>\n",
       "      <th>landing_page</th>\n",
       "      <th>converted</th>\n",
       "    </tr>\n",
       "  </thead>\n",
       "  <tbody>\n",
       "    <tr>\n",
       "      <th>0</th>\n",
       "      <td>851104</td>\n",
       "      <td>2017-01-21 22:11:48.556739</td>\n",
       "      <td>control</td>\n",
       "      <td>old_page</td>\n",
       "      <td>0</td>\n",
       "    </tr>\n",
       "    <tr>\n",
       "      <th>1</th>\n",
       "      <td>804228</td>\n",
       "      <td>2017-01-12 08:01:45.159739</td>\n",
       "      <td>control</td>\n",
       "      <td>old_page</td>\n",
       "      <td>0</td>\n",
       "    </tr>\n",
       "    <tr>\n",
       "      <th>2</th>\n",
       "      <td>661590</td>\n",
       "      <td>2017-01-11 16:55:06.154213</td>\n",
       "      <td>treatment</td>\n",
       "      <td>new_page</td>\n",
       "      <td>0</td>\n",
       "    </tr>\n",
       "    <tr>\n",
       "      <th>3</th>\n",
       "      <td>853541</td>\n",
       "      <td>2017-01-08 18:28:03.143765</td>\n",
       "      <td>treatment</td>\n",
       "      <td>new_page</td>\n",
       "      <td>0</td>\n",
       "    </tr>\n",
       "    <tr>\n",
       "      <th>4</th>\n",
       "      <td>864975</td>\n",
       "      <td>2017-01-21 01:52:26.210827</td>\n",
       "      <td>control</td>\n",
       "      <td>old_page</td>\n",
       "      <td>1</td>\n",
       "    </tr>\n",
       "  </tbody>\n",
       "</table>\n",
       "</div>"
      ],
      "text/plain": [
       "   user_id                   timestamp      group landing_page  converted\n",
       "0   851104  2017-01-21 22:11:48.556739    control     old_page          0\n",
       "1   804228  2017-01-12 08:01:45.159739    control     old_page          0\n",
       "2   661590  2017-01-11 16:55:06.154213  treatment     new_page          0\n",
       "3   853541  2017-01-08 18:28:03.143765  treatment     new_page          0\n",
       "4   864975  2017-01-21 01:52:26.210827    control     old_page          1"
      ]
     },
     "execution_count": 47,
     "metadata": {},
     "output_type": "execute_result"
    }
   ],
   "source": [
    "user_data.head()"
   ]
  },
  {
   "cell_type": "code",
   "execution_count": 48,
   "id": "38b1ab4b",
   "metadata": {},
   "outputs": [
    {
     "data": {
      "text/plain": [
       "False    286690\n",
       "True       3894\n",
       "Name: user_id, dtype: int64"
      ]
     },
     "execution_count": 48,
     "metadata": {},
     "output_type": "execute_result"
    }
   ],
   "source": [
    "# two ways to count # of repeated user_ids\n",
    "# method 1:\n",
    "(counter > 1).value_counts()"
   ]
  },
  {
   "cell_type": "code",
   "execution_count": 50,
   "id": "611eb6ad",
   "metadata": {},
   "outputs": [
    {
     "data": {
      "text/plain": [
       "3894"
      ]
     },
     "execution_count": 50,
     "metadata": {},
     "output_type": "execute_result"
    }
   ],
   "source": [
    "# method 2: \n",
    "res_user = df.groupby('user_id').count()\n",
    "len(res_user[res_user.landing_page != 1])"
   ]
  },
  {
   "cell_type": "code",
   "execution_count": 51,
   "id": "50fdbfb3",
   "metadata": {},
   "outputs": [
    {
     "data": {
      "text/html": [
       "<div>\n",
       "<style scoped>\n",
       "    .dataframe tbody tr th:only-of-type {\n",
       "        vertical-align: middle;\n",
       "    }\n",
       "\n",
       "    .dataframe tbody tr th {\n",
       "        vertical-align: top;\n",
       "    }\n",
       "\n",
       "    .dataframe thead th {\n",
       "        text-align: right;\n",
       "    }\n",
       "</style>\n",
       "<table border=\"1\" class=\"dataframe\">\n",
       "  <thead>\n",
       "    <tr style=\"text-align: right;\">\n",
       "      <th></th>\n",
       "      <th>user_id</th>\n",
       "      <th>timestamp</th>\n",
       "      <th>group</th>\n",
       "      <th>landing_page</th>\n",
       "      <th>converted</th>\n",
       "      <th>week</th>\n",
       "    </tr>\n",
       "  </thead>\n",
       "  <tbody>\n",
       "    <tr>\n",
       "      <th>151757</th>\n",
       "      <td>675904</td>\n",
       "      <td>2017-01-08 15:31:02.209424</td>\n",
       "      <td>treatment</td>\n",
       "      <td>new_page</td>\n",
       "      <td>0</td>\n",
       "      <td>1</td>\n",
       "    </tr>\n",
       "  </tbody>\n",
       "</table>\n",
       "</div>"
      ],
      "text/plain": [
       "        user_id                   timestamp      group landing_page  \\\n",
       "151757   675904  2017-01-08 15:31:02.209424  treatment     new_page   \n",
       "\n",
       "        converted  week  \n",
       "151757          0     1  "
      ]
     },
     "execution_count": 51,
     "metadata": {},
     "output_type": "execute_result"
    }
   ],
   "source": [
    "# now, continue dealing with data which removes repeated user exposures\n",
    "# Add week column to see the data\n",
    "user_data['week'] = user_data['timestamp'].apply(lambda x: datetime.datetime.strptime(x, '%Y-%m-%d %H:%M:%S.%f').isocalendar()[1])\n",
    "user_data.sample()"
   ]
  },
  {
   "cell_type": "code",
   "execution_count": 52,
   "id": "36eb1e0f",
   "metadata": {},
   "outputs": [
    {
     "data": {
      "text/plain": [
       "2    91380\n",
       "3    91056\n",
       "1    83745\n",
       "4    20509\n",
       "Name: week, dtype: int64"
      ]
     },
     "execution_count": 52,
     "metadata": {},
     "output_type": "execute_result"
    }
   ],
   "source": [
    "user_data['week'].value_counts()"
   ]
  },
  {
   "cell_type": "markdown",
   "id": "ab1452c7",
   "metadata": {},
   "source": [
    "### 4. Experiment: Frequentist Approach"
   ]
  },
  {
   "cell_type": "code",
   "execution_count": 53,
   "id": "f5412be2",
   "metadata": {},
   "outputs": [
    {
     "name": "stdout",
     "output_type": "stream",
     "text": [
      "Treatment Conversion Rate: 11.873%\n",
      "Control Conversion Rate: 12.017%\n",
      "Lift = -0.144%\n"
     ]
    }
   ],
   "source": [
    "# Get Stats\n",
    "NUM_WEEKS = 4 # Vary number to get experiment data at weekly points in time\n",
    "experiment_data = user_data[user_data['week'] <= NUM_WEEKS]\n",
    "control = experiment_data[experiment_data['group']=='control']\n",
    "treatment = experiment_data[experiment_data['group']=='treatment']\n",
    "\n",
    "control_conversion_perc = round(control['converted'].sum() * 100/ control['converted'].count(), 3)\n",
    "treatment_conversion_perc = round(treatment['converted'].sum() * 100/ treatment['converted'].count(), 3)\n",
    "lift = round(treatment_conversion_perc - control_conversion_perc, 3)\n",
    "\n",
    "print(f\"Treatment Conversion Rate: {treatment_conversion_perc}%\")\n",
    "print(f\"Control Conversion Rate: {control_conversion_perc}%\")\n",
    "print(f\"Lift = {lift}%\")"
   ]
  },
  {
   "cell_type": "markdown",
   "id": "f4ca4b86",
   "metadata": {},
   "source": [
    "#### Chi-Squared Test\n",
    "\n",
    "(for the categorical variable: converted or not)\n",
    "\n",
    "$$\n",
    "H_0: \\text{Control & Treatment are independent} \\\\\n",
    "H_A: \\text{Control & Treatment are not independent} \n",
    "$$"
   ]
  },
  {
   "cell_type": "code",
   "execution_count": 54,
   "id": "e6dfd957",
   "metadata": {},
   "outputs": [],
   "source": [
    "# Create Contingency Table for Chi Squared Test\n",
    "control_converted = control['converted'].sum()\n",
    "treatment_converted = treatment['converted'].sum()\n",
    "control_non_converted = control['converted'].count() - control_converted\n",
    "treatment_non_converted = treatment['converted'].count() - treatment_converted\n",
    "contingency_table = np.array([[control_converted, control_non_converted], \n",
    "                              [treatment_converted, treatment_non_converted]])"
   ]
  },
  {
   "cell_type": "code",
   "execution_count": 55,
   "id": "11129c1e",
   "metadata": {},
   "outputs": [
    {
     "data": {
      "text/plain": [
       "array([[ 17220, 126073],\n",
       "       [ 17025, 126372]], dtype=int64)"
      ]
     },
     "execution_count": 55,
     "metadata": {},
     "output_type": "execute_result"
    }
   ],
   "source": [
    "contingency_table"
   ]
  },
  {
   "cell_type": "code",
   "execution_count": 56,
   "id": "f05bb811",
   "metadata": {},
   "outputs": [],
   "source": [
    "chi, p_value, _, _ = chi2_contingency(contingency_table, correction=False)"
   ]
  },
  {
   "cell_type": "code",
   "execution_count": 57,
   "id": "e7107b75",
   "metadata": {},
   "outputs": [
    {
     "data": {
      "text/plain": [
       "(1.426794609399621, 0.23228827305833816)"
      ]
     },
     "execution_count": 57,
     "metadata": {},
     "output_type": "execute_result"
    }
   ],
   "source": [
    "chi, p_value"
   ]
  },
  {
   "cell_type": "markdown",
   "id": "94cc470d",
   "metadata": {},
   "source": [
    "Since the p_value > 0.05, we cannot reject null hypothesis. Hence, we cannot conclude if there exists a relationship between the control and treatment groups."
   ]
  },
  {
   "cell_type": "code",
   "execution_count": 58,
   "id": "25c32a80",
   "metadata": {},
   "outputs": [
    {
     "name": "stdout",
     "output_type": "stream",
     "text": [
      "23.23% probability that a more extreme chi square than 1.427 would have occured by chance\n"
     ]
    }
   ],
   "source": [
    "print(f\"{round(p_value * 100, 2)}% probability that a more extreme chi square than {round(chi, 3)} would have occured by chance\")"
   ]
  },
  {
   "cell_type": "markdown",
   "id": "c803322f",
   "metadata": {},
   "source": [
    "If you would to say something about the actual maginitude of lift, like something below, you should go with Bayesian."
   ]
  },
  {
   "cell_type": "code",
   "execution_count": 59,
   "id": "9459f0c1",
   "metadata": {},
   "outputs": [
    {
     "name": "stdout",
     "output_type": "stream",
     "text": [
      "(We CANNOT say this) We are 23.23% confident that our lift = -0.144%\n"
     ]
    }
   ],
   "source": [
    "print(f\"(We CANNOT say this) We are {round(p_value * 100, 2)}% confident that our lift = {lift}%\")"
   ]
  },
  {
   "cell_type": "code",
   "execution_count": 60,
   "id": "5bdec428",
   "metadata": {},
   "outputs": [
    {
     "data": {
      "image/png": "[encoded data removed]",
      "text/plain": [
       "<IPython.core.display.Image object>"
      ]
     },
     "execution_count": 60,
     "metadata": {},
     "output_type": "execute_result"
    }
   ],
   "source": [
    "Image(filename='datasets/b_v_f.png') \n",
    "# Frequentist outputs scalars, while Bayesian outputs distributions. "
   ]
  },
  {
   "cell_type": "markdown",
   "id": "808dc5eb",
   "metadata": {},
   "source": [
    "### 5. Experiment: Bayesian Approach\n",
    "\n",
    "We want to input the _prior distribution_ and have the experiment update the parameters to create _posterier distributions_. Since these prior & posterior distributions will be used to sample Conversion Rate, we model them after beta distribtion.\n",
    "\n",
    "Let's create the prior beta distribtion from the first weeks of conversion data"
   ]
  },
  {
   "cell_type": "code",
   "execution_count": 62,
   "id": "80c4e485",
   "metadata": {},
   "outputs": [],
   "source": [
    "prior = user_data[(user_data['week'] == 1) & (user_data['group']=='control')]"
   ]
  },
  {
   "cell_type": "code",
   "execution_count": 63,
   "id": "6354fb2c",
   "metadata": {},
   "outputs": [],
   "source": [
    "prior_means = []\n",
    "for i in range(10000):\n",
    "    prior_means.append(prior.sample(1000)['converted'].mean())"
   ]
  },
  {
   "cell_type": "code",
   "execution_count": 64,
   "id": "1b6a92b2",
   "metadata": {},
   "outputs": [
    {
     "data": {
      "text/plain": [
       "[0.117, 0.129, 0.13, 0.125, 0.109, 0.144, 0.109, 0.128, 0.128, 0.129]"
      ]
     },
     "execution_count": 64,
     "metadata": {},
     "output_type": "execute_result"
    }
   ],
   "source": [
    "prior_means[:10]"
   ]
  },
  {
   "cell_type": "code",
   "execution_count": 65,
   "id": "584c454d",
   "metadata": {},
   "outputs": [],
   "source": [
    "# Model Beta Distribtion from sample means\n",
    "prior_alpha, prior_beta, _, _ = beta.fit(prior_means, floc=0, fscale=1)"
   ]
  },
  {
   "cell_type": "code",
   "execution_count": 76,
   "id": "e194c5b1",
   "metadata": {},
   "outputs": [
    {
     "name": "stdout",
     "output_type": "stream",
     "text": [
      "Treatment Conversion Rate: 11.817%\n",
      "Control Conversion Rate: 11.925%\n",
      "Lift = -0.009%\n"
     ]
    }
   ],
   "source": [
    "# Get Stats\n",
    "NUM_WEEKS = 2 # Vary number to get experiment data at weekly points in time\n",
    "experiment_data = user_data[(user_data['week'] > 1) & (user_data['week'] <= NUM_WEEKS)]\n",
    "control = experiment_data[experiment_data['group']=='control']\n",
    "treatment = experiment_data[experiment_data['group']=='treatment']\n",
    "\n",
    "control_conversion_perc = round(control['converted'].sum() * 100/ control['converted'].count(), 3)\n",
    "treatment_conversion_perc = round(treatment['converted'].sum() * 100/ treatment['converted'].count(), 3)\n",
    "lift = round((treatment_conversion_perc - control_conversion_perc) / control_conversion_perc , 3)\n",
    "\n",
    "print(f\"Treatment Conversion Rate: {treatment_conversion_perc}%\")\n",
    "print(f\"Control Conversion Rate: {control_conversion_perc}%\")\n",
    "print(f\"Lift = {lift}%\")"
   ]
  },
  {
   "cell_type": "code",
   "execution_count": 77,
   "id": "0e4328f2",
   "metadata": {},
   "outputs": [
    {
     "name": "stdout",
     "output_type": "stream",
     "text": [
      "Probability that treatment > control: 33.900000000000006%\n",
      "We are 33.90% confident that the treatment group would be larger than control group by -0.009%\n"
     ]
    }
   ],
   "source": [
    "control_converted = control['converted'].sum()\n",
    "treatment_converted = treatment['converted'].sum()\n",
    "control_non_converted = control['converted'].count() - control_converted\n",
    "treatment_non_converted = treatment['converted'].count() - treatment_converted\n",
    "\n",
    "# Update Prior parameters with experiment conversion rates\n",
    "posterior_control = beta(prior_alpha + control_converted, prior_beta + control_non_converted)\n",
    "posterior_treatment = beta(prior_alpha + treatment_converted, prior_beta + treatment_non_converted)\n",
    "\n",
    "# Sample from Posteriors\n",
    "control_samples = posterior_control.rvs(1000)\n",
    "treatment_samples = posterior_treatment.rvs(1000)\n",
    "probability = np.mean(treatment_samples > control_samples)\n",
    "print(f\"Probability that treatment > control: {probability * 100}%\")\n",
    "print('We are {:.2f}% confident that the treatment group would be larger than control group by {}%'.format(probability * 100, lift))"
   ]
  },
  {
   "cell_type": "code",
   "execution_count": 78,
   "id": "4c7abf7e",
   "metadata": {},
   "outputs": [
    {
     "name": "stdout",
     "output_type": "stream",
     "text": [
      "Control Posterior: Mean: 0.11924689096116665, Variance: 2.248705041557851e-06\n",
      "Treatment Posterior: Mean: 0.1181938477691885, Variance: 2.2310343861881793e-06\n"
     ]
    }
   ],
   "source": [
    "(control_mu), (control_var) = posterior_control.stats()\n",
    "(treatment_mu), (treatment_var) = posterior_treatment.stats()\n",
    "print(f\"Control Posterior: Mean: {control_mu}, Variance: {control_var}\") \n",
    "print(f\"Treatment Posterior: Mean: {treatment_mu}, Variance: {treatment_var}\") "
   ]
  },
  {
   "cell_type": "code",
   "execution_count": 79,
   "id": "08fb5e8c",
   "metadata": {},
   "outputs": [
    {
     "name": "stdout",
     "output_type": "stream",
     "text": [
      "Treatment Conversion Rate: 11.893%\n",
      "Control Conversion Rate: 12.025%\n",
      "Lift = -0.011%\n"
     ]
    }
   ],
   "source": [
    "# now let's run the experiment with one more week\n",
    "NUM_WEEKS = 3 # Vary number to get experiment data at weekly points in time\n",
    "experiment_data = user_data[(user_data['week'] > 1) & (user_data['week'] <= NUM_WEEKS)]\n",
    "control = experiment_data[experiment_data['group']=='control']\n",
    "treatment = experiment_data[experiment_data['group']=='treatment']\n",
    "\n",
    "control_conversion_perc = round(control['converted'].sum() * 100/ control['converted'].count(), 3)\n",
    "treatment_conversion_perc = round(treatment['converted'].sum() * 100/ treatment['converted'].count(), 3)\n",
    "lift = round((treatment_conversion_perc - control_conversion_perc) / control_conversion_perc , 3)\n",
    "\n",
    "print(f\"Treatment Conversion Rate: {treatment_conversion_perc}%\")\n",
    "print(f\"Control Conversion Rate: {control_conversion_perc}%\")\n",
    "print(f\"Lift = {lift}%\")"
   ]
  },
  {
   "cell_type": "code",
   "execution_count": 80,
   "id": "a426675b",
   "metadata": {},
   "outputs": [
    {
     "name": "stdout",
     "output_type": "stream",
     "text": [
      "Probability that treatment > control: 18.6%\n",
      "We are 18.60% confident that the treatment group would be larger than control group by -0.011%\n"
     ]
    }
   ],
   "source": [
    "control_converted = control['converted'].sum()\n",
    "treatment_converted = treatment['converted'].sum()\n",
    "control_non_converted = control['converted'].count() - control_converted\n",
    "treatment_non_converted = treatment['converted'].count() - treatment_converted\n",
    "\n",
    "# Update Prior parameters with experiment conversion rates\n",
    "posterior_control = beta(prior_alpha + control_converted, prior_beta + control_non_converted)\n",
    "posterior_treatment = beta(prior_alpha + treatment_converted, prior_beta + treatment_non_converted)\n",
    "\n",
    "# Sample from Posteriors\n",
    "control_samples = posterior_control.rvs(1000)\n",
    "treatment_samples = posterior_treatment.rvs(1000)\n",
    "probability = np.mean(treatment_samples > control_samples)\n",
    "print(f\"Probability that treatment > control: {probability * 100}%\")\n",
    "print('We are {:.2f}% confident that the treatment group would be larger than control group by {}%'.format(probability * 100, lift))"
   ]
  },
  {
   "cell_type": "code",
   "execution_count": 81,
   "id": "e8f7550c",
   "metadata": {},
   "outputs": [
    {
     "name": "stdout",
     "output_type": "stream",
     "text": [
      "Control Posterior: Mean: 0.12024138917285032, Variance: 1.146783322632739e-06\n",
      "Treatment Posterior: Mean: 0.11893168290630549, Variance: 1.1361040019612609e-06\n"
     ]
    }
   ],
   "source": [
    "(control_mu), (control_var) = posterior_control.stats()\n",
    "(treatment_mu), (treatment_var) = posterior_treatment.stats()\n",
    "print(f\"Control Posterior: Mean: {control_mu}, Variance: {control_var}\") \n",
    "print(f\"Treatment Posterior: Mean: {treatment_mu}, Variance: {treatment_var}\") "
   ]
  },
  {
   "cell_type": "code",
   "execution_count": 82,
   "id": "85aab478",
   "metadata": {},
   "outputs": [
    {
     "name": "stdout",
     "output_type": "stream",
     "text": [
      "Treatment Conversion Rate: 11.909%\n",
      "Control Conversion Rate: 12.058%\n",
      "Lift = -0.012%\n"
     ]
    }
   ],
   "source": [
    "# now let's run the experiment with one more week\n",
    "NUM_WEEKS = 4 # Vary number to get experiment data at weekly points in time\n",
    "experiment_data = user_data[(user_data['week'] > 1) & (user_data['week'] <= NUM_WEEKS)]\n",
    "control = experiment_data[experiment_data['group']=='control']\n",
    "treatment = experiment_data[experiment_data['group']=='treatment']\n",
    "\n",
    "control_conversion_perc = round(control['converted'].sum() * 100/ control['converted'].count(), 3)\n",
    "treatment_conversion_perc = round(treatment['converted'].sum() * 100/ treatment['converted'].count(), 3)\n",
    "lift = round((treatment_conversion_perc - control_conversion_perc) / control_conversion_perc , 3)\n",
    "\n",
    "print(f\"Treatment Conversion Rate: {treatment_conversion_perc}%\")\n",
    "print(f\"Control Conversion Rate: {control_conversion_perc}%\")\n",
    "print(f\"Lift = {lift}%\")"
   ]
  },
  {
   "cell_type": "code",
   "execution_count": 83,
   "id": "a8566c28",
   "metadata": {},
   "outputs": [
    {
     "name": "stdout",
     "output_type": "stream",
     "text": [
      "Probability that treatment > control: 17.4%\n",
      "We are 17.40% confident that the treatment group would be larger than control group by -0.012%\n"
     ]
    }
   ],
   "source": [
    "control_converted = control['converted'].sum()\n",
    "treatment_converted = treatment['converted'].sum()\n",
    "control_non_converted = control['converted'].count() - control_converted\n",
    "treatment_non_converted = treatment['converted'].count() - treatment_converted\n",
    "\n",
    "# Update Prior parameters with experiment conversion rates\n",
    "posterior_control = beta(prior_alpha + control_converted, prior_beta + control_non_converted)\n",
    "posterior_treatment = beta(prior_alpha + treatment_converted, prior_beta + treatment_non_converted)\n",
    "\n",
    "# Sample from Posteriors\n",
    "control_samples = posterior_control.rvs(1000)\n",
    "treatment_samples = posterior_treatment.rvs(1000)\n",
    "probability = np.mean(treatment_samples > control_samples)\n",
    "print(f\"Probability that treatment > control: {probability * 100}%\")\n",
    "print('We are {:.2f}% confident that the treatment group would be larger than control group by {}%'.format(probability * 100, lift))"
   ]
  },
  {
   "cell_type": "code",
   "execution_count": 84,
   "id": "7451dae1",
   "metadata": {},
   "outputs": [
    {
     "name": "stdout",
     "output_type": "stream",
     "text": [
      "Control Posterior: Mean: 0.12056137135488972, Variance: 1.0335705008512748e-06\n",
      "Treatment Posterior: Mean: 0.11909246777203639, Variance: 1.0244705641747872e-06\n"
     ]
    }
   ],
   "source": [
    "(control_mu), (control_var) = posterior_control.stats()\n",
    "(treatment_mu), (treatment_var) = posterior_treatment.stats()\n",
    "print(f\"Control Posterior: Mean: {control_mu}, Variance: {control_var}\") \n",
    "print(f\"Treatment Posterior: Mean: {treatment_mu}, Variance: {treatment_var}\") "
   ]
  },
  {
   "cell_type": "markdown",
   "id": "17572127",
   "metadata": {},
   "source": [
    "We can even make statements like the following which are actionable:"
   ]
  },
  {
   "cell_type": "code",
   "execution_count": 85,
   "id": "020cedd9",
   "metadata": {},
   "outputs": [
    {
     "name": "stdout",
     "output_type": "stream",
     "text": [
      "Probability that we are seeing a 2% lift: 0.3%\n"
     ]
    }
   ],
   "source": [
    "lift_percentage = (treatment_samples - control_samples) / control_samples\n",
    "print(f\"Probability that we are seeing a 2% lift: {np.mean((100 * lift_percentage) > 2) * 100}%\")"
   ]
  },
  {
   "cell_type": "markdown",
   "id": "1b8db326",
   "metadata": {},
   "source": [
    "Advantages of Frequentist over Bayesian:\n",
    "- No prior knowledge of the data needed\n",
    "- Computationally easy to do\n",
    "- Standard procedure across many places, including most medical and research practices\n",
    "- Easy to interpret\n",
    "\n",
    "Advantages of Bayesian over Frequentist:\n",
    "- Results are more interpretable than the ones we got from the frequentist approach\n",
    "- We can interpret results at any point during the experiment. Don't need to wait for an arbitrary \"statsig\""
   ]
  },
  {
   "cell_type": "code",
   "execution_count": 87,
   "id": "b69b6a3f",
   "metadata": {},
   "outputs": [
    {
     "data": {
      "image/png": "[encoded data removed]",
      "text/plain": [
       "<IPython.core.display.Image object>"
      ]
     },
     "execution_count": 87,
     "metadata": {},
     "output_type": "execute_result"
    }
   ],
   "source": [
    "Image(filename='datasets/Frequentist_vs_Bayesian.png') \n",
    "# first row: Frequentist; second row: Bayesian\n",
    "\n",
    "# Reference: Edanz Group. (2022). Frequentist vs. Bayesian Statistics – Which should you use? Edanz Learning Lab. https://learning.edanz.com/frequentist-bayesian-statistics/"
   ]
  },
  {
   "cell_type": "markdown",
   "id": "0ff699fd",
   "metadata": {},
   "source": [
    "More notes from Cassie on the topic\n",
    "\n",
    "### Frequentist versus Bayesian\n",
    "#### Which words tell you who you’re dealing with?\n",
    "What jargon tells you that you’ve stepped into their territory?\n",
    "**Frequentist**: confidence interval, p-value, power, significance\n",
    "**Bayesian**: credible interval, prior, posterior\n",
    "\n",
    "#### What are their goals?\n",
    "What are they using statistics to change their minds about?\n",
    "**Frequentist**: actions to take (default action)\n",
    "**Bayesian**: opinions to have (prior belief)\n",
    "\n",
    "#### What is the main difference?\n",
    "**Frequentist**: the parameter is a fixed quantity (no probability about it)\n",
    "**Bayesian**: the parameter is a random variable (no right answer)\n",
    "\n",
    "#### What’s in it for you?\n",
    "What do you gain by joining their way of thinking?\n",
    "**Frequentist**: it makes sense to talk about your method’s quality and “getting the answer right”\n",
    "**Bayesian**: intuitive definitions, e.g. credible intervals are what you wish confidence intervals were (but aren’t!)\n",
    "\n",
    "#### What do you give up?\n",
    "What do you lose if you choose their side?\n",
    "**Frequentist**: the core concepts are harder to wrap your head around (e.g. p-values and confidence intervals have counter-intuitive, wordy definitions) and lazy thinkers make a hash out of them frequent-ly.\n",
    "**Bayesian**: you lose the ability to talk about any notion of “right answers” and “method quality” — there’s no such thing as statistically significant or rejecting the null. There’s only “more likely” and “less likely” …from your perspective.\n",
    "\n",
    "#### So, which one is better?\n",
    "Wrong question! The right one to choose depends on how you want to approach your decision-making. For example, if you have no default action, go Bayesian. Without a default action, the Frequentist approach is less practical than the Bayesian approach unless you have special philosophical reasons for invoking the concept of TRUTH in your calculations.\n",
    "\n",
    "(Note: those last three words are important. We’re not talking about the concept of truth in general, but rather about how it’s handled in the math that powers these approaches to statistics. The distinction between the two camps boils down to whether you treat the parameter of interest as a fixed constant or not.)\n",
    "\n",
    "#### Okay… so which one is more objective?\n",
    "Neither! They’re both based on assumptions, so they’re fundamentally subjective. \n",
    "\n",
    "The key difference is how they assist decision-making once the decision context has been framed.\n",
    "\n",
    "#### Wait, what about sample size? Isn’t Bayesian the way to go with small data?\n",
    "If you’ve been hanging out with the “Frequentist if there’s lots of data, Bayesian if there isn’t” folks, you might be sold on the idea that you should let sample size decide which camp to go with. Alas, the reasoning behind their advice gets wobbly if you poke it.\n",
    "\n",
    "Yes, it’s true that Frequentists spurn babby datasets. If you’ve got more fingers than examples, they’ll almost surely tell you not to bother. \n",
    "\n",
    "Yes, it’s true that if you take a Bayesian approach, you can proceed with as little as one (!) datapoint. The math checks out. Sure. You can do it.\n",
    "\n",
    "…But *should* you?\n",
    "\n",
    "Being allowed to proceed with a pittance of data might be a bug instead of a feature. There are circumstances where you definitely don’t want to be doing that. (Statistics isn’t alchemy. We’re not making gold out of thin air. There’s the same amount of data in one datapoint no matter which school of thought you pledge fealty to.)\n",
    "\n",
    "The way to “require less data” is to make bigger assumptions (this holds for both philosophies)… so do take a moment to ponder the nutritional content of your conclusions when your main ingredient isn’t data but, essentially, some nonsense you made up. If you take yourself too seriously when working with tiny data, expert Bayesians and Frequentists alike will forget their differences long enough to join in a belly laugh at your expense.\n",
    "\n",
    "#### Cassie, you’re killing us here. Are you Bayesian or Frequentist?\n",
    "Both! I choose based on how I’m framing my decision-making. It depends on whether the situation calls for choosing between actions or forming an evidence-based opinion.\n",
    "\n",
    "#### Should I pick a side?\n",
    "I’d advise against committing to just one camp (unless you’ve spent a few years thinking about the philosophy of statistics and you’re willing to die on this hill).\n",
    "\n",
    "Honestly, it’s a little silly to declare yourself as one or the other unless you’ve pondered them very deeply. Having had the pleasure of doing my graduate work at Duke University (which is to Bayesian statistics approximately what the Vatican is to Catholicism), I noticed that the loudest loudmouths about the superiority of Bayesian statistics aren’t the professors… it’s the newbie students who are relieved not to have to memorize the definition of the weird Frequentist confidence interval anymore (the Bayesian credible interval is so much easier). The profs understand that “better” depends on why you’re trying to do. They spend a lot of time thinking in the Bayesian way because it fits the kind of decision approaches they’re interested in. So, my advice? Don’t pick a side. See them as two different approaches that fit two different styles of decision-making and reasoning, then leave yourself the option of using whichever one suits the mindset/context you find yourself in.\n",
    "\n",
    "Reference: Kozyrkov, C. (2023, April 30). Statistics: Are you Bayesian or Frequentist? - Towards Data Science. Medium. https://towardsdatascience.com/statistics-are-you-bayesian-or-frequentist-4943f953f21b"
   ]
  },
  {
   "cell_type": "code",
   "execution_count": null,
   "id": "dcf5f2f1",
   "metadata": {},
   "outputs": [],
   "source": []
  }
 ],
 "metadata": {
  "kernelspec": {
   "display_name": "Python 3 (ipykernel)",
   "language": "python",
   "name": "python3"
  },
  "language_info": {
   "codemirror_mode": {
    "name": "ipython",
    "version": 3
   },
   "file_extension": ".py",
   "mimetype": "text/x-python",
   "name": "python",
   "nbconvert_exporter": "python",
   "pygments_lexer": "ipython3",
   "version": "3.11.4"
  }
 },
 "nbformat": 4,
 "nbformat_minor": 5
}
