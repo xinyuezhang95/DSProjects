{
 "cells": [
  {
   "cell_type": "markdown",
   "id": "a8d6bff3",
   "metadata": {},
   "source": [
    "## Project Description\n",
    "*Cookie Cats* is a hugely popular mobile puzzle game developed by Tactile Entertainment. It's a classic \"connect three\" style puzzle game where the player must connect tiles of the same color in order to clear the board and win the level. \n",
    "\n",
    "As players progress through the game, they will encounter gates that force them to wait some time before they can progress or make an in-app purchase. \n",
    "\n",
    "In this project, we will analyze the result of an **A/B test** where the first gate in Cookie Cats was moved from level 30 to level 40. In particular, we will analyze the impact on **player retention**.\n",
    "\n",
    "## Acknowledgements\n",
    "This dataset is taken from DataCamp. Thanks to them for this dataset!\n",
    "\n",
    "## Workflow:\n",
    "1. Data Collection\n",
    "2. Data Pre-Processing and Analysis\n",
    "3. Statistical Analysis: A/B Testing -- Bootstrapping\n",
    "4. Conclusion"
   ]
  },
  {
   "cell_type": "markdown",
   "id": "f098af1a",
   "metadata": {},
   "source": [
    "### Importing the Dependencies"
   ]
  },
  {
   "cell_type": "code",
   "execution_count": 1,
   "id": "19550a8f",
   "metadata": {},
   "outputs": [],
   "source": [
    "import pandas as pd\n",
    "import matplotlib.pyplot as plt"
   ]
  },
  {
   "cell_type": "markdown",
   "id": "5f804c66",
   "metadata": {},
   "source": [
    "### Loading the dataset"
   ]
  },
  {
   "cell_type": "code",
   "execution_count": 2,
   "id": "0d1b59cd",
   "metadata": {},
   "outputs": [],
   "source": [
    "cookie_users = pd.read_csv('datasets/cookie_cats.csv')"
   ]
  },
  {
   "cell_type": "code",
   "execution_count": 3,
   "id": "d42b27f3",
   "metadata": {},
   "outputs": [
    {
     "data": {
      "text/html": [
       "<div>\n",
       "<style scoped>\n",
       "    .dataframe tbody tr th:only-of-type {\n",
       "        vertical-align: middle;\n",
       "    }\n",
       "\n",
       "    .dataframe tbody tr th {\n",
       "        vertical-align: top;\n",
       "    }\n",
       "\n",
       "    .dataframe thead th {\n",
       "        text-align: right;\n",
       "    }\n",
       "</style>\n",
       "<table border=\"1\" class=\"dataframe\">\n",
       "  <thead>\n",
       "    <tr style=\"text-align: right;\">\n",
       "      <th></th>\n",
       "      <th>userid</th>\n",
       "      <th>version</th>\n",
       "      <th>sum_gamerounds</th>\n",
       "      <th>retention_1</th>\n",
       "      <th>retention_7</th>\n",
       "    </tr>\n",
       "  </thead>\n",
       "  <tbody>\n",
       "    <tr>\n",
       "      <th>0</th>\n",
       "      <td>116</td>\n",
       "      <td>gate_30</td>\n",
       "      <td>3</td>\n",
       "      <td>False</td>\n",
       "      <td>False</td>\n",
       "    </tr>\n",
       "    <tr>\n",
       "      <th>1</th>\n",
       "      <td>337</td>\n",
       "      <td>gate_30</td>\n",
       "      <td>38</td>\n",
       "      <td>True</td>\n",
       "      <td>False</td>\n",
       "    </tr>\n",
       "    <tr>\n",
       "      <th>2</th>\n",
       "      <td>377</td>\n",
       "      <td>gate_40</td>\n",
       "      <td>165</td>\n",
       "      <td>True</td>\n",
       "      <td>False</td>\n",
       "    </tr>\n",
       "    <tr>\n",
       "      <th>3</th>\n",
       "      <td>483</td>\n",
       "      <td>gate_40</td>\n",
       "      <td>1</td>\n",
       "      <td>False</td>\n",
       "      <td>False</td>\n",
       "    </tr>\n",
       "    <tr>\n",
       "      <th>4</th>\n",
       "      <td>488</td>\n",
       "      <td>gate_40</td>\n",
       "      <td>179</td>\n",
       "      <td>True</td>\n",
       "      <td>True</td>\n",
       "    </tr>\n",
       "  </tbody>\n",
       "</table>\n",
       "</div>"
      ],
      "text/plain": [
       "   userid  version  sum_gamerounds  retention_1  retention_7\n",
       "0     116  gate_30               3        False        False\n",
       "1     337  gate_30              38         True        False\n",
       "2     377  gate_40             165         True        False\n",
       "3     483  gate_40               1        False        False\n",
       "4     488  gate_40             179         True         True"
      ]
     },
     "execution_count": 3,
     "metadata": {},
     "output_type": "execute_result"
    }
   ],
   "source": [
    "cookie_users.head()"
   ]
  },
  {
   "cell_type": "code",
   "execution_count": 4,
   "id": "de8de113",
   "metadata": {},
   "outputs": [
    {
     "data": {
      "text/plain": [
       "(90189, 5)"
      ]
     },
     "execution_count": 4,
     "metadata": {},
     "output_type": "execute_result"
    }
   ],
   "source": [
    "cookie_users.shape"
   ]
  },
  {
   "cell_type": "markdown",
   "id": "a1c26956",
   "metadata": {},
   "source": [
    "#### Dataset Content\n",
    "The data we have includes 90,189 players that installed the game while the A/B test was running. \n",
    "\n",
    "#### Variables:\n",
    "\n",
    "- *userid*: A unique number that identifies each player.\n",
    "\n",
    "- *version*: Whether the player was put in the control group (gate_30 - a gate at level 30) or the treatment group with the moved gate (gate_40 - a gate at level 40).\n",
    "\n",
    "- *sum_gamerounds*: the number of game rounds played by the player during the first 14 days after install.\n",
    "\n",
    "- *retention_1*: Did the player come back and play 1 day after installing?\n",
    "\n",
    "- *retention_7*: Did the player come back and play 7 days after installing?\n",
    "\n"
   ]
  },
  {
   "cell_type": "markdown",
   "id": "235dbfb1",
   "metadata": {},
   "source": [
    "### Exploratory Data Analysis"
   ]
  },
  {
   "cell_type": "code",
   "execution_count": 5,
   "id": "c45d8e32",
   "metadata": {},
   "outputs": [
    {
     "name": "stdout",
     "output_type": "stream",
     "text": [
      "<class 'pandas.core.frame.DataFrame'>\n",
      "RangeIndex: 90189 entries, 0 to 90188\n",
      "Data columns (total 5 columns):\n",
      " #   Column          Non-Null Count  Dtype \n",
      "---  ------          --------------  ----- \n",
      " 0   userid          90189 non-null  int64 \n",
      " 1   version         90189 non-null  object\n",
      " 2   sum_gamerounds  90189 non-null  int64 \n",
      " 3   retention_1     90189 non-null  bool  \n",
      " 4   retention_7     90189 non-null  bool  \n",
      "dtypes: bool(2), int64(2), object(1)\n",
      "memory usage: 2.2+ MB\n"
     ]
    }
   ],
   "source": [
    "cookie_users.info()"
   ]
  },
  {
   "cell_type": "code",
   "execution_count": 6,
   "id": "48533d0a",
   "metadata": {},
   "outputs": [
    {
     "data": {
      "text/html": [
       "<div>\n",
       "<style scoped>\n",
       "    .dataframe tbody tr th:only-of-type {\n",
       "        vertical-align: middle;\n",
       "    }\n",
       "\n",
       "    .dataframe tbody tr th {\n",
       "        vertical-align: top;\n",
       "    }\n",
       "\n",
       "    .dataframe thead th {\n",
       "        text-align: right;\n",
       "    }\n",
       "</style>\n",
       "<table border=\"1\" class=\"dataframe\">\n",
       "  <thead>\n",
       "    <tr style=\"text-align: right;\">\n",
       "      <th></th>\n",
       "      <th>userid</th>\n",
       "      <th>sum_gamerounds</th>\n",
       "    </tr>\n",
       "  </thead>\n",
       "  <tbody>\n",
       "    <tr>\n",
       "      <th>count</th>\n",
       "      <td>9.018900e+04</td>\n",
       "      <td>90189.000000</td>\n",
       "    </tr>\n",
       "    <tr>\n",
       "      <th>mean</th>\n",
       "      <td>4.998412e+06</td>\n",
       "      <td>51.872457</td>\n",
       "    </tr>\n",
       "    <tr>\n",
       "      <th>std</th>\n",
       "      <td>2.883286e+06</td>\n",
       "      <td>195.050858</td>\n",
       "    </tr>\n",
       "    <tr>\n",
       "      <th>min</th>\n",
       "      <td>1.160000e+02</td>\n",
       "      <td>0.000000</td>\n",
       "    </tr>\n",
       "    <tr>\n",
       "      <th>25%</th>\n",
       "      <td>2.512230e+06</td>\n",
       "      <td>5.000000</td>\n",
       "    </tr>\n",
       "    <tr>\n",
       "      <th>50%</th>\n",
       "      <td>4.995815e+06</td>\n",
       "      <td>16.000000</td>\n",
       "    </tr>\n",
       "    <tr>\n",
       "      <th>75%</th>\n",
       "      <td>7.496452e+06</td>\n",
       "      <td>51.000000</td>\n",
       "    </tr>\n",
       "    <tr>\n",
       "      <th>max</th>\n",
       "      <td>9.999861e+06</td>\n",
       "      <td>49854.000000</td>\n",
       "    </tr>\n",
       "  </tbody>\n",
       "</table>\n",
       "</div>"
      ],
      "text/plain": [
       "             userid  sum_gamerounds\n",
       "count  9.018900e+04    90189.000000\n",
       "mean   4.998412e+06       51.872457\n",
       "std    2.883286e+06      195.050858\n",
       "min    1.160000e+02        0.000000\n",
       "25%    2.512230e+06        5.000000\n",
       "50%    4.995815e+06       16.000000\n",
       "75%    7.496452e+06       51.000000\n",
       "max    9.999861e+06    49854.000000"
      ]
     },
     "execution_count": 6,
     "metadata": {},
     "output_type": "execute_result"
    }
   ],
   "source": [
    "cookie_users.describe()"
   ]
  },
  {
   "cell_type": "code",
   "execution_count": 7,
   "id": "652be4ea",
   "metadata": {},
   "outputs": [
    {
     "data": {
      "text/plain": [
       "userid            0\n",
       "version           0\n",
       "sum_gamerounds    0\n",
       "retention_1       0\n",
       "retention_7       0\n",
       "dtype: int64"
      ]
     },
     "execution_count": 7,
     "metadata": {},
     "output_type": "execute_result"
    }
   ],
   "source": [
    "# check missing values\n",
    "cookie_users.isnull().sum()"
   ]
  },
  {
   "cell_type": "code",
   "execution_count": 8,
   "id": "fa458f1e",
   "metadata": {},
   "outputs": [
    {
     "data": {
      "text/plain": [
       "array(['gate_30', 'gate_40'], dtype=object)"
      ]
     },
     "execution_count": 8,
     "metadata": {},
     "output_type": "execute_result"
    }
   ],
   "source": [
    "cookie_users.version.unique()"
   ]
  },
  {
   "cell_type": "code",
   "execution_count": 9,
   "id": "5f3ef97c",
   "metadata": {},
   "outputs": [
    {
     "data": {
      "text/plain": [
       "gate_40    45489\n",
       "gate_30    44700\n",
       "Name: version, dtype: int64"
      ]
     },
     "execution_count": 9,
     "metadata": {},
     "output_type": "execute_result"
    }
   ],
   "source": [
    "cookie_users.version.value_counts()"
   ]
  },
  {
   "cell_type": "code",
   "execution_count": 10,
   "id": "a9a24d99",
   "metadata": {},
   "outputs": [
    {
     "data": {
      "text/plain": [
       "90189"
      ]
     },
     "execution_count": 10,
     "metadata": {},
     "output_type": "execute_result"
    }
   ],
   "source": [
    "# check if there are repeated users\n",
    "len(cookie_users.userid.unique())\n",
    "# also can use: cookie_users[\"userid\"].nunique()"
   ]
  },
  {
   "cell_type": "code",
   "execution_count": 11,
   "id": "548f88d8",
   "metadata": {},
   "outputs": [
    {
     "data": {
      "text/html": [
       "<div>\n",
       "<style scoped>\n",
       "    .dataframe tbody tr th:only-of-type {\n",
       "        vertical-align: middle;\n",
       "    }\n",
       "\n",
       "    .dataframe tbody tr th {\n",
       "        vertical-align: top;\n",
       "    }\n",
       "\n",
       "    .dataframe thead th {\n",
       "        text-align: right;\n",
       "    }\n",
       "</style>\n",
       "<table border=\"1\" class=\"dataframe\">\n",
       "  <thead>\n",
       "    <tr style=\"text-align: right;\">\n",
       "      <th></th>\n",
       "      <th>userid</th>\n",
       "      <th>sum_gamerounds</th>\n",
       "      <th>retention_1</th>\n",
       "      <th>retention_7</th>\n",
       "    </tr>\n",
       "    <tr>\n",
       "      <th>version</th>\n",
       "      <th></th>\n",
       "      <th></th>\n",
       "      <th></th>\n",
       "      <th></th>\n",
       "    </tr>\n",
       "  </thead>\n",
       "  <tbody>\n",
       "    <tr>\n",
       "      <th>gate_30</th>\n",
       "      <td>4.987564e+06</td>\n",
       "      <td>52.456264</td>\n",
       "      <td>0.448188</td>\n",
       "      <td>0.190201</td>\n",
       "    </tr>\n",
       "    <tr>\n",
       "      <th>gate_40</th>\n",
       "      <td>5.009073e+06</td>\n",
       "      <td>51.298776</td>\n",
       "      <td>0.442283</td>\n",
       "      <td>0.182000</td>\n",
       "    </tr>\n",
       "  </tbody>\n",
       "</table>\n",
       "</div>"
      ],
      "text/plain": [
       "               userid  sum_gamerounds  retention_1  retention_7\n",
       "version                                                        \n",
       "gate_30  4.987564e+06       52.456264     0.448188     0.190201\n",
       "gate_40  5.009073e+06       51.298776     0.442283     0.182000"
      ]
     },
     "execution_count": 11,
     "metadata": {},
     "output_type": "execute_result"
    }
   ],
   "source": [
    "# check if version has some impacts on sum_gamerounds\n",
    "cookie_users.groupby('version').mean()"
   ]
  },
  {
   "cell_type": "code",
   "execution_count": 12,
   "id": "bae61f9f",
   "metadata": {},
   "outputs": [
    {
     "data": {
      "text/html": [
       "<div>\n",
       "<style scoped>\n",
       "    .dataframe tbody tr th:only-of-type {\n",
       "        vertical-align: middle;\n",
       "    }\n",
       "\n",
       "    .dataframe tbody tr th {\n",
       "        vertical-align: top;\n",
       "    }\n",
       "\n",
       "    .dataframe thead th {\n",
       "        text-align: right;\n",
       "    }\n",
       "</style>\n",
       "<table border=\"1\" class=\"dataframe\">\n",
       "  <thead>\n",
       "    <tr style=\"text-align: right;\">\n",
       "      <th></th>\n",
       "      <th>userid</th>\n",
       "      <th>sum_gamerounds</th>\n",
       "      <th>retention_1</th>\n",
       "      <th>retention_7</th>\n",
       "    </tr>\n",
       "    <tr>\n",
       "      <th>version</th>\n",
       "      <th></th>\n",
       "      <th></th>\n",
       "      <th></th>\n",
       "      <th></th>\n",
       "    </tr>\n",
       "  </thead>\n",
       "  <tbody>\n",
       "    <tr>\n",
       "      <th>gate_30</th>\n",
       "      <td>222944098441</td>\n",
       "      <td>2344795</td>\n",
       "      <td>20034</td>\n",
       "      <td>8502</td>\n",
       "    </tr>\n",
       "    <tr>\n",
       "      <th>gate_40</th>\n",
       "      <td>227857702576</td>\n",
       "      <td>2333530</td>\n",
       "      <td>20119</td>\n",
       "      <td>8279</td>\n",
       "    </tr>\n",
       "  </tbody>\n",
       "</table>\n",
       "</div>"
      ],
      "text/plain": [
       "               userid  sum_gamerounds  retention_1  retention_7\n",
       "version                                                        \n",
       "gate_30  222944098441         2344795        20034         8502\n",
       "gate_40  227857702576         2333530        20119         8279"
      ]
     },
     "execution_count": 12,
     "metadata": {},
     "output_type": "execute_result"
    }
   ],
   "source": [
    "cookie_users.groupby('version').sum()"
   ]
  },
  {
   "cell_type": "code",
   "execution_count": 20,
   "id": "88424ee2",
   "metadata": {},
   "outputs": [
    {
     "data": {
      "text/plain": [
       "<Figure size 300x300 with 0 Axes>"
      ]
     },
     "metadata": {},
     "output_type": "display_data"
    },
    {
     "data": {
      "image/png": "[encoded data removed]",
      "text/plain": [
       "<Figure size 640x480 with 1 Axes>"
      ]
     },
     "metadata": {},
     "output_type": "display_data"
    }
   ],
   "source": [
    "plt.figure(figsize = (3, 3))\n",
    "\n",
    "# Make the crosstab visual\n",
    "pd.crosstab(cookie_users.version, cookie_users.retention_1).plot(kind = 'bar', color = ['salmon', 'lightblue'])\n",
    "\n",
    "# Add some communication\n",
    "plt.title('Retention after 1 day Result Per Version')\n",
    "plt.xlabel('Version')\n",
    "plt.ylabel('# of users')\n",
    "# plt.legend(['False', 'True'])\n",
    "plt.xticks(rotation = 0);"
   ]
  },
  {
   "cell_type": "code",
   "execution_count": 21,
   "id": "80dc620d",
   "metadata": {},
   "outputs": [
    {
     "data": {
      "text/plain": [
       "<Figure size 300x300 with 0 Axes>"
      ]
     },
     "metadata": {},
     "output_type": "display_data"
    },
    {
     "data": {
      "image/png": "[encoded data removed]",
      "text/plain": [
       "<Figure size 640x480 with 1 Axes>"
      ]
     },
     "metadata": {},
     "output_type": "display_data"
    }
   ],
   "source": [
    "plt.figure(figsize = (3, 3))\n",
    "\n",
    "# Make the crosstab visual\n",
    "pd.crosstab(cookie_users.version, cookie_users.retention_7).plot(kind = 'bar', color = ['salmon', 'lightblue'])\n",
    "\n",
    "# Add some communication\n",
    "plt.title('Retention after 7 days Result Per Version')\n",
    "plt.xlabel('Version')\n",
    "plt.ylabel('# of users')\n",
    "# plt.legend(['False', 'True'])\n",
    "plt.xticks(rotation = 0);"
   ]
  },
  {
   "cell_type": "markdown",
   "id": "d9dce6c0",
   "metadata": {},
   "source": [
    "### Calculate the Sample Size\n"
   ]
  },
  {
   "cell_type": "code",
   "execution_count": 23,
   "id": "095e9194",
   "metadata": {},
   "outputs": [
    {
     "data": {
      "text/html": [
       "<div>\n",
       "<style scoped>\n",
       "    .dataframe tbody tr th:only-of-type {\n",
       "        vertical-align: middle;\n",
       "    }\n",
       "\n",
       "    .dataframe tbody tr th {\n",
       "        vertical-align: top;\n",
       "    }\n",
       "\n",
       "    .dataframe thead th {\n",
       "        text-align: right;\n",
       "    }\n",
       "</style>\n",
       "<table border=\"1\" class=\"dataframe\">\n",
       "  <thead>\n",
       "    <tr style=\"text-align: right;\">\n",
       "      <th></th>\n",
       "      <th>userid</th>\n",
       "      <th>sum_gamerounds</th>\n",
       "      <th>retention_1</th>\n",
       "      <th>retention_7</th>\n",
       "    </tr>\n",
       "    <tr>\n",
       "      <th>version</th>\n",
       "      <th></th>\n",
       "      <th></th>\n",
       "      <th></th>\n",
       "      <th></th>\n",
       "    </tr>\n",
       "  </thead>\n",
       "  <tbody>\n",
       "    <tr>\n",
       "      <th>gate_30</th>\n",
       "      <td>44700</td>\n",
       "      <td>44700</td>\n",
       "      <td>44700</td>\n",
       "      <td>44700</td>\n",
       "    </tr>\n",
       "    <tr>\n",
       "      <th>gate_40</th>\n",
       "      <td>45489</td>\n",
       "      <td>45489</td>\n",
       "      <td>45489</td>\n",
       "      <td>45489</td>\n",
       "    </tr>\n",
       "  </tbody>\n",
       "</table>\n",
       "</div>"
      ],
      "text/plain": [
       "         userid  sum_gamerounds  retention_1  retention_7\n",
       "version                                                  \n",
       "gate_30   44700           44700        44700        44700\n",
       "gate_40   45489           45489        45489        45489"
      ]
     },
     "execution_count": 23,
     "metadata": {},
     "output_type": "execute_result"
    }
   ],
   "source": [
    "cookie_users.groupby('version').count()"
   ]
  },
  {
   "cell_type": "markdown",
   "id": "5a737941",
   "metadata": {},
   "source": [
    "### How much time do players spend?"
   ]
  },
  {
   "cell_type": "code",
   "execution_count": 24,
   "id": "fecf651d",
   "metadata": {},
   "outputs": [
    {
     "data": {
      "text/plain": [
       "Text(0, 0.5, 'userid')"
      ]
     },
     "execution_count": 24,
     "metadata": {},
     "output_type": "execute_result"
    },
    {
     "data": {
      "image/png": "[encoded data removed]",
      "text/plain": [
       "<Figure size 640x480 with 1 Axes>"
      ]
     },
     "metadata": {},
     "output_type": "display_data"
    }
   ],
   "source": [
    "# Counting the number of players for each number of gamerounds \n",
    "plot_game = cookie_users.groupby(\"sum_gamerounds\").count()\n",
    "\n",
    "# Plotting the distribution of players that played 0 to 100 game rounds\n",
    "ax = plot_game[:100].plot()\n",
    "ax.set_xlabel(\"Total Game Rounds\")\n",
    "ax.set_ylabel(\"userid\")"
   ]
  },
  {
   "cell_type": "markdown",
   "id": "9a2d201c",
   "metadata": {},
   "source": [
    "It appears that the vast majority of users are playing less than 20 rounds in total, over the recording of this data.\n",
    "\n",
    "There are also some players that installed the game but never played it (0 game rounds). "
   ]
  },
  {
   "cell_type": "code",
   "execution_count": 48,
   "id": "18f9c858",
   "metadata": {},
   "outputs": [
    {
     "data": {
      "text/plain": [
       "3994"
      ]
     },
     "execution_count": 48,
     "metadata": {},
     "output_type": "execute_result"
    }
   ],
   "source": [
    "cookie_users[cookie_users['sum_gamerounds'] == 0]['userid'].count()"
   ]
  },
  {
   "cell_type": "code",
   "execution_count": 49,
   "id": "d75af44a",
   "metadata": {},
   "outputs": [
    {
     "data": {
      "text/plain": [
       "0.0442847797403231"
      ]
     },
     "execution_count": 49,
     "metadata": {},
     "output_type": "execute_result"
    }
   ],
   "source": [
    "# the percentage of users that never played the game\n",
    "cookie_users[cookie_users['sum_gamerounds'] == 0]['userid'].count()/cookie_users['userid'].nunique()"
   ]
  },
  {
   "cell_type": "markdown",
   "id": "44fec68e",
   "metadata": {},
   "source": [
    "The percentage of players that never played are quite small. Besides, we care more about retention (which we'll talk about later).\n",
    "\n",
    "Now let’s take the same approach to see if there is much of a difference in the number of games played in our control group and treatment group."
   ]
  },
  {
   "cell_type": "markdown",
   "id": "afb78512",
   "metadata": {},
   "source": [
    "### Group Distributions between groups"
   ]
  },
  {
   "cell_type": "markdown",
   "id": "d01e3ffe",
   "metadata": {},
   "source": [
    "#### Set-Up\n",
    "This time, we’re also going to switch to an overlayed bar-plot of the distinct A/B group distributions.\n",
    "\n",
    "Since we’ve already identified that the drop off in users occurs in less than 20 sessions, let’s also change our bin distribution to get a more nuanced view of the low-end and high-end of user activities."
   ]
  },
  {
   "cell_type": "code",
   "execution_count": 25,
   "id": "f9186b31",
   "metadata": {},
   "outputs": [],
   "source": [
    "plt.style.use('ggplot')\n",
    "\n",
    "# Counting the number of players for each number of gamerounds \n",
    "Group_A = cookie_users[cookie_users.version == 'gate_30']\n",
    "Group_B = cookie_users[cookie_users.version == 'gate_40']\n",
    "bins = [0,1,10,20,30,40,50,60,70,80,90,100,200,500]\n",
    "plot_GA = pd.DataFrame(Group_A.groupby(pd.cut(Group_A[\"sum_gamerounds\"], bins=bins)).count())\n",
    "plot_GB = pd.DataFrame(Group_B.groupby(pd.cut(Group_B[\"sum_gamerounds\"], bins=bins)).count())"
   ]
  },
  {
   "cell_type": "code",
   "execution_count": 28,
   "id": "37fe69d9",
   "metadata": {},
   "outputs": [
    {
     "data": {
      "image/png": "[encoded data removed]",
      "text/plain": [
       "<Figure size 640x480 with 1 Axes>"
      ]
     },
     "metadata": {},
     "output_type": "display_data"
    }
   ],
   "source": [
    "# Plotting the distribution of players that played 0 to 100 game rounds\n",
    "ax = plot_GA[:50].plot(kind = 'bar', y=\"userid\", color = \"black\", alpha = 1, \n",
    "                       title = 'Total Usage By Groups')\n",
    "plot_GB[:50].plot(kind = 'bar', y=\"userid\", ax=ax, color = \"red\", alpha = 0.7 )\n",
    "ax.set_xlabel(\"Total Game Rounds\")\n",
    "ax.set_ylabel(\"Players\")\n",
    "# plt.axvline(30, linestyle='dashed', linewidth=2)\n",
    "# plt.axvline(40, linestyle='dashed', linewidth=2)\n",
    "plt.legend([\"Group A\", \"Group B\"])\n",
    "plt.tight_layout()\n",
    "plt.grid(True)"
   ]
  },
  {
   "cell_type": "markdown",
   "id": "632243fb",
   "metadata": {},
   "source": [
    "There doesn’t seem to be a large difference between the two versions overall. \n",
    "\n",
    "However, there does seem to be some slight disparities around the 30-40 marks that may be related to the A/B test at hand."
   ]
  },
  {
   "cell_type": "markdown",
   "id": "1976f710",
   "metadata": {},
   "source": [
    "#### Try another metric\n",
    "Another metric we can use to guage the success of the product, is in the capture of **returning users**. \n",
    "\n",
    "If our revenue model is based on users, we don’t want them to give up on us early. \n",
    "\n",
    "Let’s look at how many players come back the day after installing the game."
   ]
  },
  {
   "cell_type": "code",
   "execution_count": 50,
   "id": "a6862d41",
   "metadata": {},
   "outputs": [
    {
     "name": "stdout",
     "output_type": "stream",
     "text": [
      "1-day retention ratio: 44.52%       \n",
      "7-days retention ratio: 18.61%\n"
     ]
    }
   ],
   "source": [
    "# retention for 1-day and 7-days\n",
    "users_retention = cookie_users[[\"retention_1\",\"retention_7\"]].mean()*100\n",
    "print(f\"1-day retention ratio: {round(users_retention[0],2)}% \\\n",
    "      \\n7-days retention ratio: {round(users_retention[1],2)}%\")"
   ]
  },
  {
   "cell_type": "markdown",
   "id": "600fe898",
   "metadata": {},
   "source": [
    "We can see that a little less than half of the players come back one day after installing the game, while only 18 percent of the players come back 7 day after installing the game.\n",
    "\n",
    "Now let's look at how retention rates differs between the two A/B groups."
   ]
  },
  {
   "cell_type": "code",
   "execution_count": 51,
   "id": "e17916fc",
   "metadata": {},
   "outputs": [
    {
     "data": {
      "text/html": [
       "<div>\n",
       "<style scoped>\n",
       "    .dataframe tbody tr th:only-of-type {\n",
       "        vertical-align: middle;\n",
       "    }\n",
       "\n",
       "    .dataframe tbody tr th {\n",
       "        vertical-align: top;\n",
       "    }\n",
       "\n",
       "    .dataframe thead th {\n",
       "        text-align: right;\n",
       "    }\n",
       "</style>\n",
       "<table border=\"1\" class=\"dataframe\">\n",
       "  <thead>\n",
       "    <tr style=\"text-align: right;\">\n",
       "      <th></th>\n",
       "      <th>userid</th>\n",
       "      <th>retention_1</th>\n",
       "      <th>retention_7</th>\n",
       "      <th>sum_gamerounds</th>\n",
       "    </tr>\n",
       "    <tr>\n",
       "      <th>version</th>\n",
       "      <th></th>\n",
       "      <th></th>\n",
       "      <th></th>\n",
       "      <th></th>\n",
       "    </tr>\n",
       "  </thead>\n",
       "  <tbody>\n",
       "    <tr>\n",
       "      <th>gate_30</th>\n",
       "      <td>44700</td>\n",
       "      <td>0.448188</td>\n",
       "      <td>0.190201</td>\n",
       "      <td>2344795</td>\n",
       "    </tr>\n",
       "    <tr>\n",
       "      <th>gate_40</th>\n",
       "      <td>45489</td>\n",
       "      <td>0.442283</td>\n",
       "      <td>0.182000</td>\n",
       "      <td>2333530</td>\n",
       "    </tr>\n",
       "  </tbody>\n",
       "</table>\n",
       "</div>"
      ],
      "text/plain": [
       "         userid  retention_1  retention_7  sum_gamerounds\n",
       "version                                                  \n",
       "gate_30   44700     0.448188     0.190201         2344795\n",
       "gate_40   45489     0.442283     0.182000         2333530"
      ]
     },
     "execution_count": 51,
     "metadata": {},
     "output_type": "execute_result"
    }
   ],
   "source": [
    "# Calculating 1-day and 7-days retention for each A/B group\n",
    "users_retention_ab = cookie_users.groupby(\"version\").agg({\"userid\":\"count\", \"retention_1\":\"mean\",\"retention_7\":\"mean\", \"sum_gamerounds\":\"sum\"})\n",
    "users_retention_ab"
   ]
  },
  {
   "cell_type": "markdown",
   "id": "6f954379",
   "metadata": {},
   "source": [
    "There was a slight decrease in 1-day retention when the gate was moved to level 40 (44.2%) compared to the control group when it was at level 30 (44.8%).\n",
    "\n",
    "Again,a decrease in 7-day retention when the gate was moved to level 40 (18.2%) compared to the control group when it was at level 30 (19.8%).\n",
    "\n",
    "Besides, the total time of game played also decrease by 0.48% when the gate was moved to level 40, compared to the control group at level 30. "
   ]
  },
  {
   "cell_type": "code",
   "execution_count": 52,
   "id": "e37f3afa",
   "metadata": {},
   "outputs": [
    {
     "data": {
      "text/plain": [
       "-0.004804257941525805"
      ]
     },
     "execution_count": 52,
     "metadata": {},
     "output_type": "execute_result"
    }
   ],
   "source": [
    "# percentage of decreased total gaming time\n",
    "(users_retention_ab['sum_gamerounds']['gate_40'] - users_retention_ab['sum_gamerounds']['gate_30'])/users_retention_ab['sum_gamerounds']['gate_30']"
   ]
  },
  {
   "cell_type": "markdown",
   "id": "d51d9869",
   "metadata": {},
   "source": [
    "\n",
    "\n",
    "We can use **Bootstrapping** to test our confidence about these numbers. \n",
    "\n",
    "#### Bootstrapping\n",
    "**Bootstrapping** is a statistical procedure that resamples a single dataset to create many simulated samples. This process allows us to calculate standard errors, construct confidence intervals, and perform hypothesis testing for numerous types of sample statistics. \n",
    "\n",
    "Bootstrap methods are alternative approaches to traditional hypothesis testing and are notable for being easier to understand and valid for more conditions.\n",
    "\n",
    "##### difference between bootstrapping and traditional hypothesis testing\n",
    "\n",
    "*Bootstrap hypothesis testing* is a **non-parametric** approach that involves resampling the data to estimate the sampling distribution of a statistic. It is used to estimate the standard error of a statistic, which can be used to construct confidence intervals and perform hypothesis tests. \n",
    "\n",
    "On the other hand, *traditional hypothesis testing* involves making assumptions about the distribution of the data and using statistical tests such as t-tests or chi-square tests to test hypotheses.\n",
    "\n",
    "It is possible that bootstrap hypothesis testing may yield **different** results than traditional hypothesis testing. \n",
    "\n",
    "For example, if the sample size is small or if the data does not follow a normal distribution, traditional hypothesis testing may not be appropriate. In such cases, bootstrap hypothesis testing may be more appropriate as it does not rely on assumptions about the distribution of the data."
   ]
  },
  {
   "cell_type": "markdown",
   "id": "fd6a5ad2",
   "metadata": {},
   "source": [
    "**Testing Steps**:\n",
    "\n",
    "1. Creating 500 samples of dataset (bootstraping). Note that in prod, we can use a larger number of samples like 10,000\n",
    "2. Calculating 1-day & 7-days retentions for A/B groups\n",
    "3. Plotting the bootstrap distributions\n",
    "4. Calculating retention rate difference between the two A/B groups\n",
    "5. Calculating the probability that 1-day & 7-days retentions are greater when the gate is at level 30\n",
    "6. Evaluating results and making recommendation"
   ]
  },
  {
   "cell_type": "code",
   "execution_count": 53,
   "id": "cc062093",
   "metadata": {},
   "outputs": [],
   "source": [
    "# Creating an list with bootstrapped means for each A/B group\n",
    "boot_1d = []\n",
    "boot_7d = []\n",
    "for i in range(500):\n",
    "    boot_mean_1 = cookie_users.sample(frac=1, replace=True).groupby('version')['retention_1'].mean()\n",
    "    boot_mean_7 = cookie_users.sample(frac=1, replace=True).groupby('version')['retention_7'].mean()\n",
    "    boot_1d.append(boot_mean_1)\n",
    "    boot_7d.append(boot_mean_7)\n",
    "    \n",
    "# Transforming the list to a DataFrame\n",
    "boot_1d = pd.DataFrame(boot_1d)\n",
    "boot_7d = pd.DataFrame(boot_7d)"
   ]
  },
  {
   "cell_type": "code",
   "execution_count": 84,
   "id": "cb88a884",
   "metadata": {},
   "outputs": [
    {
     "data": {
      "text/plain": [
       "((500, 3), (500, 3))"
      ]
     },
     "execution_count": 84,
     "metadata": {},
     "output_type": "execute_result"
    }
   ],
   "source": [
    "boot_1d.shape, boot_7d.shape"
   ]
  },
  {
   "cell_type": "code",
   "execution_count": 54,
   "id": "f7a83eac",
   "metadata": {},
   "outputs": [
    {
     "data": {
      "text/html": [
       "<div>\n",
       "<style scoped>\n",
       "    .dataframe tbody tr th:only-of-type {\n",
       "        vertical-align: middle;\n",
       "    }\n",
       "\n",
       "    .dataframe tbody tr th {\n",
       "        vertical-align: top;\n",
       "    }\n",
       "\n",
       "    .dataframe thead th {\n",
       "        text-align: right;\n",
       "    }\n",
       "</style>\n",
       "<table border=\"1\" class=\"dataframe\">\n",
       "  <thead>\n",
       "    <tr style=\"text-align: right;\">\n",
       "      <th>version</th>\n",
       "      <th>gate_30</th>\n",
       "      <th>gate_40</th>\n",
       "    </tr>\n",
       "  </thead>\n",
       "  <tbody>\n",
       "    <tr>\n",
       "      <th>retention_1</th>\n",
       "      <td>0.453430</td>\n",
       "      <td>0.443314</td>\n",
       "    </tr>\n",
       "    <tr>\n",
       "      <th>retention_1</th>\n",
       "      <td>0.441506</td>\n",
       "      <td>0.446356</td>\n",
       "    </tr>\n",
       "    <tr>\n",
       "      <th>retention_1</th>\n",
       "      <td>0.447962</td>\n",
       "      <td>0.439063</td>\n",
       "    </tr>\n",
       "    <tr>\n",
       "      <th>retention_1</th>\n",
       "      <td>0.448346</td>\n",
       "      <td>0.444009</td>\n",
       "    </tr>\n",
       "    <tr>\n",
       "      <th>retention_1</th>\n",
       "      <td>0.442923</td>\n",
       "      <td>0.441387</td>\n",
       "    </tr>\n",
       "  </tbody>\n",
       "</table>\n",
       "</div>"
      ],
      "text/plain": [
       "version       gate_30   gate_40\n",
       "retention_1  0.453430  0.443314\n",
       "retention_1  0.441506  0.446356\n",
       "retention_1  0.447962  0.439063\n",
       "retention_1  0.448346  0.444009\n",
       "retention_1  0.442923  0.441387"
      ]
     },
     "execution_count": 54,
     "metadata": {},
     "output_type": "execute_result"
    }
   ],
   "source": [
    "boot_1d.head()"
   ]
  },
  {
   "cell_type": "code",
   "execution_count": 55,
   "id": "471e2217",
   "metadata": {},
   "outputs": [
    {
     "data": {
      "text/html": [
       "<div>\n",
       "<style scoped>\n",
       "    .dataframe tbody tr th:only-of-type {\n",
       "        vertical-align: middle;\n",
       "    }\n",
       "\n",
       "    .dataframe tbody tr th {\n",
       "        vertical-align: top;\n",
       "    }\n",
       "\n",
       "    .dataframe thead th {\n",
       "        text-align: right;\n",
       "    }\n",
       "</style>\n",
       "<table border=\"1\" class=\"dataframe\">\n",
       "  <thead>\n",
       "    <tr style=\"text-align: right;\">\n",
       "      <th>version</th>\n",
       "      <th>gate_30</th>\n",
       "      <th>gate_40</th>\n",
       "    </tr>\n",
       "  </thead>\n",
       "  <tbody>\n",
       "    <tr>\n",
       "      <th>retention_7</th>\n",
       "      <td>0.188819</td>\n",
       "      <td>0.181309</td>\n",
       "    </tr>\n",
       "    <tr>\n",
       "      <th>retention_7</th>\n",
       "      <td>0.187216</td>\n",
       "      <td>0.181069</td>\n",
       "    </tr>\n",
       "    <tr>\n",
       "      <th>retention_7</th>\n",
       "      <td>0.188290</td>\n",
       "      <td>0.183737</td>\n",
       "    </tr>\n",
       "    <tr>\n",
       "      <th>retention_7</th>\n",
       "      <td>0.189872</td>\n",
       "      <td>0.185040</td>\n",
       "    </tr>\n",
       "    <tr>\n",
       "      <th>retention_7</th>\n",
       "      <td>0.191606</td>\n",
       "      <td>0.180773</td>\n",
       "    </tr>\n",
       "  </tbody>\n",
       "</table>\n",
       "</div>"
      ],
      "text/plain": [
       "version       gate_30   gate_40\n",
       "retention_7  0.188819  0.181309\n",
       "retention_7  0.187216  0.181069\n",
       "retention_7  0.188290  0.183737\n",
       "retention_7  0.189872  0.185040\n",
       "retention_7  0.191606  0.180773"
      ]
     },
     "execution_count": 55,
     "metadata": {},
     "output_type": "execute_result"
    }
   ],
   "source": [
    "boot_7d.head()"
   ]
  },
  {
   "cell_type": "code",
   "execution_count": 56,
   "id": "a20aa4db",
   "metadata": {},
   "outputs": [
    {
     "data": {
      "image/png": "[encoded data removed]",
      "text/plain": [
       "<Figure size 1300x500 with 2 Axes>"
      ]
     },
     "metadata": {},
     "output_type": "display_data"
    }
   ],
   "source": [
    "# Kernel Density Estimate plot of the bootstrap distributions\n",
    "fig, (ax1,ax2) = plt.subplots(1, 2, sharey=True, figsize=(13,5))\n",
    "\n",
    "boot_1d.plot.kde(ax=ax1)\n",
    "ax1.set_xlabel(\"retantion rate\",size=12)\n",
    "ax1.set_ylabel(\"number of sample\",size=12)\n",
    "ax1.set_title(\"1 day retention rate distribution\", fontweight=\"bold\",size=14)\n",
    "\n",
    "boot_7d.plot.kde(ax=ax2)\n",
    "ax2.set_xlabel(\"retantion rate\",size=12)\n",
    "ax2.set_title(\"7 days retention rate distribution\", fontweight=\"bold\",size=14)\n",
    "plt.show()"
   ]
  },
  {
   "cell_type": "markdown",
   "id": "35a4691e",
   "metadata": {},
   "source": [
    "These two distributions above represent the bootstrap uncertainty over what the underlying 1-day & 7-days retention could be for the two A/B groups. \n",
    "\n",
    "Just eyeballing this plot, we can see that there seems to be some evidence of a **difference**, albeit small. \n",
    "\n",
    "Let's zoom in on the differences."
   ]
  },
  {
   "cell_type": "code",
   "execution_count": 57,
   "id": "3b3b774c",
   "metadata": {},
   "outputs": [],
   "source": [
    "# Adding a column with the % difference between the two A/B groups\n",
    "boot_1d['diff'] = ((boot_1d['gate_30'] - boot_1d['gate_40']) / boot_1d['gate_40'] * 100)\n",
    "boot_7d['diff'] = ((boot_7d['gate_30'] - boot_7d['gate_40']) / boot_7d['gate_40'] * 100)"
   ]
  },
  {
   "cell_type": "code",
   "execution_count": 58,
   "id": "9a04b2e0",
   "metadata": {},
   "outputs": [
    {
     "data": {
      "text/html": [
       "<div>\n",
       "<style scoped>\n",
       "    .dataframe tbody tr th:only-of-type {\n",
       "        vertical-align: middle;\n",
       "    }\n",
       "\n",
       "    .dataframe tbody tr th {\n",
       "        vertical-align: top;\n",
       "    }\n",
       "\n",
       "    .dataframe thead th {\n",
       "        text-align: right;\n",
       "    }\n",
       "</style>\n",
       "<table border=\"1\" class=\"dataframe\">\n",
       "  <thead>\n",
       "    <tr style=\"text-align: right;\">\n",
       "      <th>version</th>\n",
       "      <th>gate_30</th>\n",
       "      <th>gate_40</th>\n",
       "      <th>diff</th>\n",
       "    </tr>\n",
       "  </thead>\n",
       "  <tbody>\n",
       "    <tr>\n",
       "      <th>retention_1</th>\n",
       "      <td>0.453430</td>\n",
       "      <td>0.443314</td>\n",
       "      <td>2.281865</td>\n",
       "    </tr>\n",
       "    <tr>\n",
       "      <th>retention_1</th>\n",
       "      <td>0.441506</td>\n",
       "      <td>0.446356</td>\n",
       "      <td>-1.086582</td>\n",
       "    </tr>\n",
       "    <tr>\n",
       "      <th>retention_1</th>\n",
       "      <td>0.447962</td>\n",
       "      <td>0.439063</td>\n",
       "      <td>2.026708</td>\n",
       "    </tr>\n",
       "    <tr>\n",
       "      <th>retention_1</th>\n",
       "      <td>0.448346</td>\n",
       "      <td>0.444009</td>\n",
       "      <td>0.976956</td>\n",
       "    </tr>\n",
       "    <tr>\n",
       "      <th>retention_1</th>\n",
       "      <td>0.442923</td>\n",
       "      <td>0.441387</td>\n",
       "      <td>0.347990</td>\n",
       "    </tr>\n",
       "  </tbody>\n",
       "</table>\n",
       "</div>"
      ],
      "text/plain": [
       "version       gate_30   gate_40      diff\n",
       "retention_1  0.453430  0.443314  2.281865\n",
       "retention_1  0.441506  0.446356 -1.086582\n",
       "retention_1  0.447962  0.439063  2.026708\n",
       "retention_1  0.448346  0.444009  0.976956\n",
       "retention_1  0.442923  0.441387  0.347990"
      ]
     },
     "execution_count": 58,
     "metadata": {},
     "output_type": "execute_result"
    }
   ],
   "source": [
    "boot_1d.head()"
   ]
  },
  {
   "cell_type": "code",
   "execution_count": 59,
   "id": "f15158f2",
   "metadata": {},
   "outputs": [
    {
     "data": {
      "text/html": [
       "<div>\n",
       "<style scoped>\n",
       "    .dataframe tbody tr th:only-of-type {\n",
       "        vertical-align: middle;\n",
       "    }\n",
       "\n",
       "    .dataframe tbody tr th {\n",
       "        vertical-align: top;\n",
       "    }\n",
       "\n",
       "    .dataframe thead th {\n",
       "        text-align: right;\n",
       "    }\n",
       "</style>\n",
       "<table border=\"1\" class=\"dataframe\">\n",
       "  <thead>\n",
       "    <tr style=\"text-align: right;\">\n",
       "      <th>version</th>\n",
       "      <th>gate_30</th>\n",
       "      <th>gate_40</th>\n",
       "      <th>diff</th>\n",
       "    </tr>\n",
       "  </thead>\n",
       "  <tbody>\n",
       "    <tr>\n",
       "      <th>retention_7</th>\n",
       "      <td>0.188819</td>\n",
       "      <td>0.181309</td>\n",
       "      <td>4.142411</td>\n",
       "    </tr>\n",
       "    <tr>\n",
       "      <th>retention_7</th>\n",
       "      <td>0.187216</td>\n",
       "      <td>0.181069</td>\n",
       "      <td>3.394620</td>\n",
       "    </tr>\n",
       "    <tr>\n",
       "      <th>retention_7</th>\n",
       "      <td>0.188290</td>\n",
       "      <td>0.183737</td>\n",
       "      <td>2.477887</td>\n",
       "    </tr>\n",
       "    <tr>\n",
       "      <th>retention_7</th>\n",
       "      <td>0.189872</td>\n",
       "      <td>0.185040</td>\n",
       "      <td>2.611495</td>\n",
       "    </tr>\n",
       "    <tr>\n",
       "      <th>retention_7</th>\n",
       "      <td>0.191606</td>\n",
       "      <td>0.180773</td>\n",
       "      <td>5.992796</td>\n",
       "    </tr>\n",
       "  </tbody>\n",
       "</table>\n",
       "</div>"
      ],
      "text/plain": [
       "version       gate_30   gate_40      diff\n",
       "retention_7  0.188819  0.181309  4.142411\n",
       "retention_7  0.187216  0.181069  3.394620\n",
       "retention_7  0.188290  0.183737  2.477887\n",
       "retention_7  0.189872  0.185040  2.611495\n",
       "retention_7  0.191606  0.180773  5.992796"
      ]
     },
     "execution_count": 59,
     "metadata": {},
     "output_type": "execute_result"
    }
   ],
   "source": [
    "boot_7d.head()"
   ]
  },
  {
   "cell_type": "code",
   "execution_count": 60,
   "id": "fce4a715",
   "metadata": {},
   "outputs": [
    {
     "data": {
      "image/png": "[encoded data removed]",
      "text/plain": [
       "<Figure size 600x500 with 1 Axes>"
      ]
     },
     "metadata": {},
     "output_type": "display_data"
    }
   ],
   "source": [
    "# Ploting the bootstrap % difference\n",
    "fig, (ax1) = plt.subplots(1, 1,figsize=(6,5))\n",
    "\n",
    "boot_1d['diff'].plot.kde(ax=ax1, c=\"#ff99ff\", label = \"1 day retention\")\n",
    "boot_7d['diff'].plot.kde(ax=ax1, c= \"#00bfff\", label = \"7 days retention\")\n",
    "ax1.set_xlabel(\"% difference\",size=12)\n",
    "ax1.set_ylabel(\"% density\",size=12)\n",
    "ax1.set_title(\"Difference in retention \\n between the two A/B groups\", fontweight=\"bold\", size=14)\n",
    "plt.legend()\n",
    "plt.show()"
   ]
  },
  {
   "cell_type": "markdown",
   "id": "8e384a85",
   "metadata": {},
   "source": [
    "From this plot, we can see that the most likely % difference is around 1% - 2% for 1-day retention. \n",
    "\n",
    "For 7-days retention the most likely % difference is around 2% - 5%. \n",
    "\n",
    "Moreover, the most of the distribution is above 0%, in favor of a gate at level 30. \n",
    "\n",
    "But what is the **probability** that the difference is above 0%? Let's calculate that as well."
   ]
  },
  {
   "cell_type": "code",
   "execution_count": 61,
   "id": "fb460f2e",
   "metadata": {},
   "outputs": [
    {
     "name": "stdout",
     "output_type": "stream",
     "text": [
      "The probability that 1-day retention is greater when the gate is at level 30: 97.0%       \n",
      "The probability that 7-days retention is greater when the gate is at level 30: 100.0% \n"
     ]
    }
   ],
   "source": [
    "# Calculating the probability that 1-day retention is greater when the gate is at level 30\n",
    "prob_1 = (boot_1d['diff']>0).sum()/len(boot_1d['diff'])\n",
    "\n",
    "# Calculating the probability that 7-days retention is greater when the gate is at level 30\n",
    "prob_7 = (boot_7d['diff']>0).sum()/len(boot_7d['diff'])\n",
    "\n",
    "# Pretty printing the probability\n",
    "print(f\"The probability that 1-day retention is greater when the gate is at level 30: {round(prob_1,2)*100}% \\\n",
    "      \\nThe probability that 7-days retention is greater when the gate is at level 30: {(prob_7)*100}% \")"
   ]
  },
  {
   "cell_type": "code",
   "execution_count": 62,
   "id": "e9976e3e",
   "metadata": {},
   "outputs": [
    {
     "data": {
      "text/plain": [
       "1.0"
      ]
     },
     "execution_count": 62,
     "metadata": {},
     "output_type": "execute_result"
    }
   ],
   "source": [
    "prob_7"
   ]
  },
  {
   "cell_type": "markdown",
   "id": "b7377c6c",
   "metadata": {},
   "source": [
    "### Conclusion\n",
    "\n",
    "The bootstrap result tells us that there is **strong evidence** that 7-day retention is higher when the gate is at level 30 than when it is at level 40.\n",
    "\n",
    "The conclusion is: \n",
    "\n",
    "- If we want to keep retention high — both 1-day and 7-day retention — we should not move the gate from level 30 to level 40. \n",
    "\n",
    "There are, of course, other metrics we could look at, like **the number of game rounds played** or how much **in-game purchases** are made by the two groups. But retention is definitely one of the most important metrics."
   ]
  },
  {
   "cell_type": "code",
   "execution_count": null,
   "id": "3ae74cb9",
   "metadata": {},
   "outputs": [],
   "source": []
  },
  {
   "cell_type": "code",
   "execution_count": null,
   "id": "6c6f9478",
   "metadata": {},
   "outputs": [],
   "source": []
  },
  {
   "cell_type": "code",
   "execution_count": null,
   "id": "f8a4aef3",
   "metadata": {},
   "outputs": [],
   "source": []
  },
  {
   "cell_type": "code",
   "execution_count": null,
   "id": "5fbaaa2c",
   "metadata": {},
   "outputs": [],
   "source": []
  },
  {
   "cell_type": "code",
   "execution_count": null,
   "id": "59183cdb",
   "metadata": {},
   "outputs": [],
   "source": []
  }
 ],
 "metadata": {
  "kernelspec": {
   "display_name": "Python 3 (ipykernel)",
   "language": "python",
   "name": "python3"
  },
  "language_info": {
   "codemirror_mode": {
    "name": "ipython",
    "version": 3
   },
   "file_extension": ".py",
   "mimetype": "text/x-python",
   "name": "python",
   "nbconvert_exporter": "python",
   "pygments_lexer": "ipython3",
   "version": "3.11.4"
  }
 },
 "nbformat": 4,
 "nbformat_minor": 5
}
